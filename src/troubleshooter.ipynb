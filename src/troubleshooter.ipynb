{
 "cells": [
  {
   "cell_type": "code",
   "execution_count": 26,
   "metadata": {
    "collapsed": true
   },
   "outputs": [],
   "source": [
    "import run_peptalk\n",
    "from sklearn.feature_extraction.text import TfidfVectorizer\n",
    "from corpus_vec import tokenizeText\n",
    "import cPickle as pickle"
   ]
  },
  {
   "cell_type": "code",
   "execution_count": 23,
   "metadata": {},
   "outputs": [
    {
     "name": "stdout",
     "output_type": "stream",
     "text": [
      "What's going on? (type journal entry): >>\n",
      "I'm tired, and I haven't had a donut in forever. I'm struggling to stay consistent in recording my calories, and I generally feel discouraged. I record, but I'm not losing weight. and it's tedious recording.\n",
      "How many results would you care to view?: >>4\n",
      "\n",
      "==========================\n",
      "Post_ID: 2688-24 -- Topic: How Often Do You Weigh?\n",
      "\n",
      "Posted by: Noel on 05/17/2010\n",
      "\n",
      "Well, I weigh myself daily, but only record weekly (on Sunday).  My weight tends to vary +/- a pound, even thought I'm as consistent as I can be: get up, pee, weigh.  So my Sunday record is kind of a average, biased towards the high side -- I'd rather record a heavier number, and watch it go down the following week, than record a low one and then be upset by seeing the graph go up!  That's my \"system\"\n",
      "\n",
      "Cosine_similarity: 0.39307064095\n",
      "\n",
      "URL: https://forums.loseit.com/posts/list/15/2688.page\n",
      "\n",
      "\n",
      "==========================\n",
      "Post_ID: 124-6 -- Topic: Weighing in\n",
      "\n",
      "Posted by: Chad on 11/30/2009\n",
      "\n",
      "I need a digital scale!!\n",
      "\n",
      " I weigh myself everyday but only record it when I have a consistent change.  For example; if I'm down a pound or two tomorrow I will wait to see that it stays there before recording it.\n",
      "\n",
      " Not sure why I do that, I guess I just want to make sure it's not water weight or anything but a true loss.\n",
      "\n",
      "Cosine_similarity: 0.379461200329\n",
      "\n",
      "URL: https://forums.loseit.com/posts/list/124.page\n",
      "\n",
      "\n",
      "==========================\n",
      "Post_ID: 124-16 -- Topic: Weighing in\n",
      "\n",
      "Posted by: Jan on 12/02/2009\n",
      "\n",
      "I record my weight on LoseIt! every morning too.\n",
      "\n",
      "Cosine_similarity: 0.378211063989\n",
      "\n",
      "URL: https://forums.loseit.com/posts/list/15/124.page\n",
      "\n",
      "\n",
      "==========================\n",
      "Post_ID: 2398-6 -- Topic: Ladies...\n",
      "\n",
      "Posted by: Stephanie Feldman on 04/15/2010\n",
      "\n",
      "My weigh-in only counts when I lose. LOL. Seriously though, if I have an overall gain at the end of a week I record it, but mid-week I only record the losses because I know I'm doing everything I can and if there's a gain it's water or normal fluctuation. Recording a gain would only depress me.\n",
      "\n",
      "Cosine_similarity: 0.326739959823\n",
      "\n",
      "URL: https://forums.loseit.com/posts/list/2398.page\n",
      "\n"
     ]
    }
   ],
   "source": [
    "run_peptalk.run_peptalk()"
   ]
  },
  {
   "cell_type": "code",
   "execution_count": 27,
   "metadata": {},
   "outputs": [
    {
     "name": "stdout",
     "output_type": "stream",
     "text": [
      "What's going on? (type journal entry): >>\n",
      "I'm tired, and I haven't had a donut in forever. I'm struggling to stay consistent in recording my calories, and I generally feel discouraged. I record, but I'm not losing weight. and it's tedious recording.\n",
      "How many results would you care to view?: >>4\n",
      "\n",
      "==========================\n",
      "Post_ID: 2688-24 -- Topic: How Often Do You Weigh?\n",
      "\n",
      "Posted by: Noel on 05/17/2010\n",
      "\n",
      "Well, I weigh myself daily, but only record weekly (on Sunday).  My weight tends to vary +/- a pound, even thought I'm as consistent as I can be: get up, pee, weigh.  So my Sunday record is kind of a average, biased towards the high side -- I'd rather record a heavier number, and watch it go down the following week, than record a low one and then be upset by seeing the graph go up!  That's my \"system\"\n",
      "\n",
      "Cosine_similarity: 0.39307064095\n",
      "\n",
      "URL: https://forums.loseit.com/posts/list/15/2688.page\n",
      "\n",
      "\n",
      "==========================\n",
      "Post_ID: 124-6 -- Topic: Weighing in\n",
      "\n",
      "Posted by: Chad on 11/30/2009\n",
      "\n",
      "I need a digital scale!!\n",
      "\n",
      " I weigh myself everyday but only record it when I have a consistent change.  For example; if I'm down a pound or two tomorrow I will wait to see that it stays there before recording it.\n",
      "\n",
      " Not sure why I do that, I guess I just want to make sure it's not water weight or anything but a true loss.\n",
      "\n",
      "Cosine_similarity: 0.379461200329\n",
      "\n",
      "URL: https://forums.loseit.com/posts/list/124.page\n",
      "\n",
      "\n",
      "==========================\n",
      "Post_ID: 124-16 -- Topic: Weighing in\n",
      "\n",
      "Posted by: Jan on 12/02/2009\n",
      "\n",
      "I record my weight on LoseIt! every morning too.\n",
      "\n",
      "Cosine_similarity: 0.378211063989\n",
      "\n",
      "URL: https://forums.loseit.com/posts/list/15/124.page\n",
      "\n",
      "\n",
      "==========================\n",
      "Post_ID: 2398-6 -- Topic: Ladies...\n",
      "\n",
      "Posted by: Stephanie Feldman on 04/15/2010\n",
      "\n",
      "My weigh-in only counts when I lose. LOL. Seriously though, if I have an overall gain at the end of a week I record it, but mid-week I only record the losses because I know I'm doing everything I can and if there's a gain it's water or normal fluctuation. Recording a gain would only depress me.\n",
      "\n",
      "Cosine_similarity: 0.326739959823\n",
      "\n",
      "URL: https://forums.loseit.com/posts/list/2398.page\n",
      "\n"
     ]
    }
   ],
   "source": [
    "run_peptalk.run_peptalk()"
   ]
  },
  {
   "cell_type": "markdown",
   "metadata": {},
   "source": [
    "I'm tired, and I haven't had a donut in forever. I'm struggling to stay consistent in recording my calories, and I generally feel discouraged. I record, but I'm not losing weight. and it's tedious recording."
   ]
  },
  {
   "cell_type": "markdown",
   "metadata": {},
   "source": [
    "### Check tfidf array dims of various size corpora"
   ]
  },
  {
   "cell_type": "code",
   "execution_count": 8,
   "metadata": {
    "collapsed": true
   },
   "outputs": [],
   "source": [
    "with open ('corpus_vec.pickle', 'rb') as f:\n",
    "    arr = pickle.load(f)"
   ]
  },
  {
   "cell_type": "code",
   "execution_count": 10,
   "metadata": {},
   "outputs": [
    {
     "data": {
      "text/plain": [
       "(154584, 2934)"
      ]
     },
     "execution_count": 10,
     "metadata": {},
     "output_type": "execute_result"
    }
   ],
   "source": [
    "arr.shape"
   ]
  },
  {
   "cell_type": "code",
   "execution_count": 11,
   "metadata": {
    "collapsed": true
   },
   "outputs": [],
   "source": [
    "with open ('corpus_vec_20K.pickle', 'rb') as f:\n",
    "    arr20K = pickle.load(f)"
   ]
  },
  {
   "cell_type": "code",
   "execution_count": 12,
   "metadata": {},
   "outputs": [
    {
     "data": {
      "text/plain": [
       "(20000, 2713)"
      ]
     },
     "execution_count": 12,
     "metadata": {},
     "output_type": "execute_result"
    }
   ],
   "source": [
    "arr20K.shape"
   ]
  },
  {
   "cell_type": "code",
   "execution_count": 13,
   "metadata": {
    "collapsed": true
   },
   "outputs": [],
   "source": [
    "with open ('corpus_vec_10K.pickle', 'rb') as f:\n",
    "    arr10K = pickle.load(f)"
   ]
  },
  {
   "cell_type": "code",
   "execution_count": 14,
   "metadata": {},
   "outputs": [
    {
     "data": {
      "text/plain": [
       "(10000, 2457)"
      ]
     },
     "execution_count": 14,
     "metadata": {},
     "output_type": "execute_result"
    }
   ],
   "source": [
    "arr10K.shape"
   ]
  },
  {
   "cell_type": "code",
   "execution_count": 18,
   "metadata": {},
   "outputs": [
    {
     "name": "stdout",
     "output_type": "stream",
     "text": [
      "-rw-r--r--  1 sewald101  staff  136108949 Oct 27 13:39 corpus_vec.pickle\r\n",
      "-rw-r--r--  1 sewald101  staff    8310939 Oct 27 14:05 corpus_vec_10K.pickle\r\n",
      "-rw-r--r--  1 sewald101  staff   16948998 Oct 27 13:56 corpus_vec_20K.pickle\r\n"
     ]
    }
   ],
   "source": [
    "!ls -l corpus*.pickle"
   ]
  },
  {
   "cell_type": "markdown",
   "metadata": {},
   "source": [
    "### Check cosign similarities of results on these three different corpora"
   ]
  },
  {
   "cell_type": "code",
   "execution_count": null,
   "metadata": {
    "collapsed": true
   },
   "outputs": [],
   "source": []
  }
 ],
 "metadata": {
  "kernelspec": {
   "display_name": "Python [conda root]",
   "language": "python",
   "name": "conda-root-py"
  },
  "language_info": {
   "codemirror_mode": {
    "name": "ipython",
    "version": 2
   },
   "file_extension": ".py",
   "mimetype": "text/x-python",
   "name": "python",
   "nbconvert_exporter": "python",
   "pygments_lexer": "ipython2",
   "version": "2.7.13"
  }
 },
 "nbformat": 4,
 "nbformat_minor": 2
}
