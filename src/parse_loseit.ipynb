{
 "cells": [
  {
   "cell_type": "code",
   "execution_count": 346,
   "metadata": {},
   "outputs": [],
   "source": [
    "import numpy as np\n",
    "import pandas as pd\n",
    "from pymongo import MongoClient\n",
    "from bs4 import BeautifulSoup\n",
    "import json\n",
    "import re\n",
    "from scraper_1 import sign_in, scraper\n",
    "import random\n",
    "import time\n",
    "import selenium.webdriver\n",
    "import os # too access user/pwd in .bash_profile"
   ]
  },
  {
   "cell_type": "code",
   "execution_count": 347,
   "metadata": {
    "collapsed": true
   },
   "outputs": [],
   "source": [
    "mc = MongoClient()\n",
    "db = mc['lose_it']"
   ]
  },
  {
   "cell_type": "code",
   "execution_count": 348,
   "metadata": {},
   "outputs": [
    {
     "data": {
      "text/plain": [
       "[u'shard_library', u'shard_long_topic', u'shard_cherrypicked']"
      ]
     },
     "execution_count": 348,
     "metadata": {},
     "output_type": "execute_result"
    }
   ],
   "source": [
    "db.collection_names()"
   ]
  },
  {
   "cell_type": "code",
   "execution_count": 349,
   "metadata": {
    "collapsed": true
   },
   "outputs": [],
   "source": [
    "coll = db['shard_library']"
   ]
  },
  {
   "cell_type": "code",
   "execution_count": 337,
   "metadata": {},
   "outputs": [],
   "source": [
    "q = coll.find_one()\n",
    "\n",
    "test_html = q['html']\n",
    "\n",
    "test_url = q['url']"
   ]
  },
  {
   "cell_type": "code",
   "execution_count": 436,
   "metadata": {},
   "outputs": [],
   "source": [
    "kit_landing = 'https://forums.loseit.com/forums/show/6.page'\n",
    "kit_mid = 'https://forums.loseit.com/forums/show/75/6.page'\n",
    "kit_last = 'https://forums.loseit.com/forums/show/9325/6.page'"
   ]
  },
  {
   "cell_type": "code",
   "execution_count": 355,
   "metadata": {
    "collapsed": true
   },
   "outputs": [],
   "source": [
    "browser = selenium.webdriver.Firefox()"
   ]
  },
  {
   "cell_type": "code",
   "execution_count": 450,
   "metadata": {},
   "outputs": [
    {
     "ename": "KeyError",
     "evalue": "'LOSEIT_USER'",
     "output_type": "error",
     "traceback": [
      "\u001b[0;31m---------------------------------------------------------------------------\u001b[0m",
      "\u001b[0;31mKeyError\u001b[0m                                  Traceback (most recent call last)",
      "\u001b[0;32m<ipython-input-450-79bf9ad7a837>\u001b[0m in \u001b[0;36m<module>\u001b[0;34m()\u001b[0m\n\u001b[0;32m----> 1\u001b[0;31m \u001b[0muser\u001b[0m\u001b[0;34m=\u001b[0m\u001b[0mos\u001b[0m\u001b[0;34m.\u001b[0m\u001b[0menviron\u001b[0m\u001b[0;34m[\u001b[0m\u001b[0;34m'LOSEIT_USER'\u001b[0m\u001b[0;34m]\u001b[0m\u001b[0;34m\u001b[0m\u001b[0m\n\u001b[0m\u001b[1;32m      2\u001b[0m \u001b[0mpwd\u001b[0m\u001b[0;34m=\u001b[0m\u001b[0mos\u001b[0m\u001b[0;34m.\u001b[0m\u001b[0menviron\u001b[0m\u001b[0;34m[\u001b[0m\u001b[0;34m'LOSEIT_PWD'\u001b[0m\u001b[0;34m]\u001b[0m\u001b[0;34m\u001b[0m\u001b[0m\n",
      "\u001b[0;32m/Users/sewald101/anaconda2/lib/python2.7/UserDict.pyc\u001b[0m in \u001b[0;36m__getitem__\u001b[0;34m(self, key)\u001b[0m\n\u001b[1;32m     38\u001b[0m         \u001b[0;32mif\u001b[0m \u001b[0mhasattr\u001b[0m\u001b[0;34m(\u001b[0m\u001b[0mself\u001b[0m\u001b[0;34m.\u001b[0m\u001b[0m__class__\u001b[0m\u001b[0;34m,\u001b[0m \u001b[0;34m\"__missing__\"\u001b[0m\u001b[0;34m)\u001b[0m\u001b[0;34m:\u001b[0m\u001b[0;34m\u001b[0m\u001b[0m\n\u001b[1;32m     39\u001b[0m             \u001b[0;32mreturn\u001b[0m \u001b[0mself\u001b[0m\u001b[0;34m.\u001b[0m\u001b[0m__class__\u001b[0m\u001b[0;34m.\u001b[0m\u001b[0m__missing__\u001b[0m\u001b[0;34m(\u001b[0m\u001b[0mself\u001b[0m\u001b[0;34m,\u001b[0m \u001b[0mkey\u001b[0m\u001b[0;34m)\u001b[0m\u001b[0;34m\u001b[0m\u001b[0m\n\u001b[0;32m---> 40\u001b[0;31m         \u001b[0;32mraise\u001b[0m \u001b[0mKeyError\u001b[0m\u001b[0;34m(\u001b[0m\u001b[0mkey\u001b[0m\u001b[0;34m)\u001b[0m\u001b[0;34m\u001b[0m\u001b[0m\n\u001b[0m\u001b[1;32m     41\u001b[0m     \u001b[0;32mdef\u001b[0m \u001b[0m__setitem__\u001b[0m\u001b[0;34m(\u001b[0m\u001b[0mself\u001b[0m\u001b[0;34m,\u001b[0m \u001b[0mkey\u001b[0m\u001b[0;34m,\u001b[0m \u001b[0mitem\u001b[0m\u001b[0;34m)\u001b[0m\u001b[0;34m:\u001b[0m \u001b[0mself\u001b[0m\u001b[0;34m.\u001b[0m\u001b[0mdata\u001b[0m\u001b[0;34m[\u001b[0m\u001b[0mkey\u001b[0m\u001b[0;34m]\u001b[0m \u001b[0;34m=\u001b[0m \u001b[0mitem\u001b[0m\u001b[0;34m\u001b[0m\u001b[0m\n\u001b[1;32m     42\u001b[0m     \u001b[0;32mdef\u001b[0m \u001b[0m__delitem__\u001b[0m\u001b[0;34m(\u001b[0m\u001b[0mself\u001b[0m\u001b[0;34m,\u001b[0m \u001b[0mkey\u001b[0m\u001b[0;34m)\u001b[0m\u001b[0;34m:\u001b[0m \u001b[0;32mdel\u001b[0m \u001b[0mself\u001b[0m\u001b[0;34m.\u001b[0m\u001b[0mdata\u001b[0m\u001b[0;34m[\u001b[0m\u001b[0mkey\u001b[0m\u001b[0;34m]\u001b[0m\u001b[0;34m\u001b[0m\u001b[0m\n",
      "\u001b[0;31mKeyError\u001b[0m: 'LOSEIT_USER'"
     ]
    }
   ],
   "source": [
    "user=os.environ['LOSEIT_USER']\n",
    "pwd=os.environ['LOSEIT_PWD']"
   ]
  },
  {
   "cell_type": "code",
   "execution_count": 356,
   "metadata": {},
   "outputs": [
    {
     "data": {
      "text/plain": [
       "<selenium.webdriver.firefox.webdriver.WebDriver (session=\"16eab124-2b97-114b-bd05-42f51a8b335d\")>"
      ]
     },
     "execution_count": 356,
     "metadata": {},
     "output_type": "execute_result"
    }
   ],
   "source": [
    "sign_in(browser, user, pwd)"
   ]
  },
  {
   "cell_type": "code",
   "execution_count": 354,
   "metadata": {},
   "outputs": [
    {
     "name": "stdout",
     "output_type": "stream",
     "text": [
      "document added: https://forums.loseit.com/forums/show/9350/6.page\n",
      "\n",
      "Web scrape complete.\n"
     ]
    }
   ],
   "source": [
    "scraper(browser, '../data/kit_last.txt', coll)"
   ]
  },
  {
   "cell_type": "code",
   "execution_count": null,
   "metadata": {
    "collapsed": true
   },
   "outputs": [],
   "source": [
    "# get htmls for sample pages\n",
    "last, = coll.find({'url': kit_last})"
   ]
  },
  {
   "cell_type": "code",
   "execution_count": 360,
   "metadata": {
    "collapsed": true
   },
   "outputs": [],
   "source": [
    "landing, = coll.find({'url': kit_landing})"
   ]
  },
  {
   "cell_type": "code",
   "execution_count": 363,
   "metadata": {},
   "outputs": [],
   "source": [
    "mid, = coll.find({'url': kit_mid})"
   ]
  },
  {
   "cell_type": "code",
   "execution_count": 364,
   "metadata": {},
   "outputs": [],
   "source": [
    "landing_html = landing['html']\n",
    "mid_html = mid['html']\n",
    "last_html = last['html']"
   ]
  },
  {
   "cell_type": "code",
   "execution_count": 448,
   "metadata": {},
   "outputs": [
    {
     "name": "stdout",
     "output_type": "stream",
     "text": [
      "<html><head>\n",
      "        <meta http-equiv=\"content-type\" content=\"text/html; charset=UTF-8\">\n",
      "        <meta name=\"google-site-verification\" content=\"yWX9L_kVSeyo4LqRUZJTRSqMqHVQZufil1r2Ciw0XLQ\">\n",
      "        <title>Account - Lose It!</title>\n",
      "        <link href=\"//maxcdn.bootstrapcdn.com/font-awesome/4.2.0/css/font-awesome.min.css\" rel=\"stylesheet\">\n",
      "\n",
      "        <meta name=\"viewport\" content=\"width=800\">\n",
      "        <style>\n",
      "            html{color:#000;background:#FFF}body,div,dl,dt,dd,ul,ol,li,h1,h2,h3,h4,h5,h6,pre,code,form,fieldset,legend,input,textarea,p,blockquote,th,td{margin:0;padding:0}table{border-collapse:collapse;border-spacing:0}fieldset,img{border:0}address,caption,cite,code,dfn,em,strong,th,var{font-style:normal;font-weight:normal}ol,ul{list-style:none}caption,th{text-align:left}h1,h2,h3,h4,h5,h6{font-size:100%;font-weight:normal}q:before,q:after{content:''}abbr,acronym{border:0;font-variant:normal}sup{vertical-align:text-top}sub{vertical-align:text-bottom}input,textarea,select{font-family:inherit;font-size:inherit;font-weight:inherit}input,textarea,select{*font-size:100%}legend{color:#000}#yui3-css-stamp.cssreset{display:none}\n",
      "            body{font:13px/1.231 arial,helvetica,clean,sans-serif;*font-size:small;*font:x-small}select,input,button,textarea{font:99% arial,helvetica,clean,sans-serif}table{font-size:inherit;font:100%}pre,code,kbd,samp,tt{font-family:monospace;*font-size:108%;line-height:100%}#yui3-css-stamp.cssfonts{display:none}\n",
      "        </style>\n",
      "        <script type=\"text/javascript\" async=\"\" src=\"https://ssl.google-analytics.com/ga.js\"></script><script type=\"text/javascript\" language=\"javascript\" src=\"/_account/_account.nocache.js?1eskicmsod405\"></script><script src=\"https://www.loseit.com/_account/61C8345B027679ED80F41650D9BD6B69.cache.js\"></script>\n",
      "        </head>\n",
      "    <body class=\"allowUpgrade\">\n",
      "    <script type=\"text/javascript\">window.embedded_l4nd1n9 = \"[0,0,8,0,7,0,6,0,0,0,0,5,0,0,0,4,4,3,4,2,3,0,0,0,0,2,\\'V81JiLy\\',1,[\\\"com.loseit.core.client.service.responses.UnauthenticatedServiceResponse/2725618067\\\",\\\"com.loseit.core.shared.landing.LandingContext/1933227727\\\",\\\"java.util.HashSet/3273092938\\\",\\\"com.loseit.core.shared.landing.ConfigurationItem/2180939990\\\",\\\"java.util.HashMap/1797211028\\\",\\\"com.loseit.core.shared.landing.LandingContext$LandingContextType/2352687253\\\",\\\"https://www.loseit.com/account/\\\",\\\"java.util.ArrayList/4159755760\\\"],0,7]\"</script> \n",
      "<span id=\"hd63ft5i\" style=\"display:none;\">13</span>\n",
      "    <span id=\"hd63ft5j\" style=\"display:none;\">20</span>\n",
      "        <form id=\"loginForm\" action=\"/\" method=\"POST\" style=\"display:none;\" autocomplete=\"on\">\n",
      "            <input name=\"username\" id=\"username\" value=\"\" type=\"text\">\n",
      "            <input name=\"password\" id=\"password\" value=\"\" type=\"password\">\n",
      "            <input name=\"target\" id=\"target\" value=\"\" type=\"hidden\">\n",
      "            </form>\n",
      "        <iframe src=\"javascript:''\" id=\"__gwt_historyFrame\" tabindex=\"-1\" style=\"position:absolute;width:0;height:0;border:0\"></iframe>\n",
      "        <div id=\"mainPanel\">\n",
      "            <div id=\"account\">\n",
      "            <table style=\"margin-left: -50px; margin-right: -50px; height: 500px; position: relative; left: 50%; top: 0px;\" cellspacing=\"5\" cellpadding=\"0\">\n",
      "    <tbody>\n",
      "    <tr>\n",
      "        <td style=\"vertical-align: bottom;\" align=\"center\">\n",
      "            <img src=\"/_images/progressLarge.gif\">\n",
      "        </td>\n",
      "    </tr>\n",
      "    <tr>\n",
      "        <td style=\"vertical-align: top;\" align=\"center\">\n",
      "            <div>Loading...</div>\n",
      "        </td>\n",
      "    </tr>\n",
      "    </tbody>\n",
      "</table></div>\n",
      "        </div>\n",
      "        <script type=\"text/javascript\">\n",
      "            try {\n",
      "                var _gaq = _gaq || [];\n",
      "\n",
      "                _gaq.push(['_setAccount', 'UA-81546-2']);\n",
      "\n",
      "                _gaq.push(['_trackPageview']);\n",
      "\n",
      "                (function() {\n",
      "                    var ga = document.createElement('script');\n",
      "                    ga.type = 'text/javascript';\n",
      "                    ga.async = true;\n",
      "                    ga.src = ('https:' == document.location.protocol ? 'https://ssl' : 'http://www') + '.google-analytics.com/ga.js';\n",
      "                    var s = document.getElementsByTagName('script')[0];\n",
      "                    s.parentNode.insertBefore(ga, s);\n",
      "                })();\n",
      "            } catch(err) {}\n",
      "        </script>\n",
      "    \n",
      "</body></html>\n"
     ]
    }
   ],
   "source": [
    "print(last_html)\n"
   ]
  },
  {
   "cell_type": "code",
   "execution_count": 365,
   "metadata": {
    "collapsed": true
   },
   "outputs": [],
   "source": [
    "browser.get(kit_landing)"
   ]
  },
  {
   "cell_type": "code",
   "execution_count": 367,
   "metadata": {},
   "outputs": [],
   "source": [
    "soup = BeautifulSoup(landing_html, 'html.parser')"
   ]
  },
  {
   "cell_type": "code",
   "execution_count": 413,
   "metadata": {
    "collapsed": true
   },
   "outputs": [],
   "source": [
    "base = soup.find_all('tr', 'bg_small_yellow')"
   ]
  },
  {
   "cell_type": "code",
   "execution_count": 423,
   "metadata": {},
   "outputs": [
    {
     "data": {
      "text/plain": [
       "u'We have a thread about our Blogs. Here is one about our Podcasts!'"
      ]
     },
     "execution_count": 423,
     "metadata": {},
     "output_type": "execute_result"
    }
   ],
   "source": [
    "url = base[0].find('span', 'topictitle').find('a').text.strip()\n",
    "url"
   ]
  },
  {
   "cell_type": "code",
   "execution_count": 421,
   "metadata": {},
   "outputs": [
    {
     "data": {
      "text/plain": [
       "u'35767'"
      ]
     },
     "execution_count": 421,
     "metadata": {},
     "output_type": "execute_result"
    }
   ],
   "source": [
    "url.split('/')[-1].split('.')[0]"
   ]
  },
  {
   "cell_type": "code",
   "execution_count": 424,
   "metadata": {
    "collapsed": true
   },
   "outputs": [],
   "source": [
    "from loseit_parser import LoseItCatalogParser"
   ]
  },
  {
   "cell_type": "code",
   "execution_count": 438,
   "metadata": {
    "collapsed": true
   },
   "outputs": [],
   "source": [
    "parsed_L = LoseItCatalogParser(\"The Kitchen Sink\",\n",
    "                            landing_html, \n",
    "                            kit_landing)\n",
    "\n",
    "parsed_M = LoseItCatalogParser(\"The Kitchen Sink\",\n",
    "                            mid_html,\n",
    "                            kit_mid)\n",
    "\n",
    "parsed_last = LoseItCatalogParser(\"The Kitchen Sink\",\n",
    "                                 last_html,\n",
    "                                 kit_last)"
   ]
  },
  {
   "cell_type": "code",
   "execution_count": 439,
   "metadata": {
    "collapsed": true
   },
   "outputs": [],
   "source": [
    "parsed_L.parse_page()\n",
    "parsed_M.parse_page()\n",
    "parsed_last.parse_page()"
   ]
  },
  {
   "cell_type": "code",
   "execution_count": 441,
   "metadata": {},
   "outputs": [],
   "source": [
    "topics_L = parsed_L.topic_lst\n",
    "topics_M = parsed_M.topic_lst\n",
    "topics_last = parsed_last.topic_lst"
   ]
  },
  {
   "cell_type": "code",
   "execution_count": 443,
   "metadata": {},
   "outputs": [
    {
     "data": {
      "text/plain": [
       "25"
      ]
     },
     "execution_count": 443,
     "metadata": {},
     "output_type": "execute_result"
    }
   ],
   "source": [
    "len(topics_M)"
   ]
  },
  {
   "cell_type": "code",
   "execution_count": 445,
   "metadata": {
    "collapsed": true
   },
   "outputs": [],
   "source": [
    "soup2 = BeautifulSoup(last_html, 'html.parser')"
   ]
  },
  {
   "cell_type": "code",
   "execution_count": 446,
   "metadata": {
    "collapsed": true
   },
   "outputs": [],
   "source": [
    "last_htmls = soup2.find_all('tr', 'bg_small_yellow')"
   ]
  },
  {
   "cell_type": "code",
   "execution_count": 449,
   "metadata": {},
   "outputs": [
    {
     "data": {
      "text/plain": [
       "75000"
      ]
     },
     "execution_count": 449,
     "metadata": {},
     "output_type": "execute_result"
    }
   ],
   "source": [
    "3000 * 25"
   ]
  },
  {
   "cell_type": "code",
   "execution_count": null,
   "metadata": {
    "collapsed": true
   },
   "outputs": [],
   "source": []
  }
 ],
 "metadata": {
  "kernelspec": {
   "display_name": "Python [conda root]",
   "language": "python",
   "name": "conda-root-py"
  },
  "language_info": {
   "codemirror_mode": {
    "name": "ipython",
    "version": 2
   },
   "file_extension": ".py",
   "mimetype": "text/x-python",
   "name": "python",
   "nbconvert_exporter": "python",
   "pygments_lexer": "ipython2",
   "version": "2.7.13"
  }
 },
 "nbformat": 4,
 "nbformat_minor": 2
}
