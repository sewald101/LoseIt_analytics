{
 "cells": [
  {
   "cell_type": "code",
   "execution_count": 3,
   "metadata": {},
   "outputs": [],
   "source": [
    "import numpy as np\n",
    "from numpy import dot\n",
    "from numpy.linalg import norm\n",
    "import pandas as pd\n",
    "from math import log\n",
    "\n",
    "import psycopg2\n",
    "import spacy\n",
    "\n",
    "# from here -- https://nicschrading.com/project/Intro-to-NLP-with-spaCy/\n",
    "from sklearn.feature_extraction.text import CountVectorizer, TfidfTransformer, TfidfVectorizer\n",
    "from sklearn.base import TransformerMixin\n",
    "from sklearn.pipeline import Pipeline\n",
    "from sklearn.svm import LinearSVC\n",
    "from sklearn.feature_extraction.stop_words import ENGLISH_STOP_WORDS\n",
    "from sklearn.metrics import accuracy_score\n",
    "from sklearn.metrics.pairwise import cosine_similarity\n",
    "from nltk.corpus import stopwords\n",
    "import string\n",
    "import re\n"
   ]
  },
  {
   "cell_type": "code",
   "execution_count": 18,
   "metadata": {
    "collapsed": true
   },
   "outputs": [],
   "source": [
    "from sklearn.metrics.pairwise import linear_kernel"
   ]
  },
  {
   "cell_type": "code",
   "execution_count": 51,
   "metadata": {
    "collapsed": true
   },
   "outputs": [],
   "source": [
    "from timeit import timeit"
   ]
  },
  {
   "cell_type": "markdown",
   "metadata": {},
   "source": [
    "tasks:\n",
    "1. compare sklearn cosine_sim to homebaked function\n",
    "2. iterate homebaked function on a matrix to produce output\n",
    "\n",
    "#### LEARNED: We might be able to speed things up by pre-norming the tfidf matrix and then using the linear kernel to calculate the cosign sims.\n",
    "\n",
    "But why is my home-baked function not working?\n",
    "\n",
    "## DUH!\n",
    "#### I needed to enclose the denominator in parentheses."
   ]
  },
  {
   "cell_type": "code",
   "execution_count": 33,
   "metadata": {},
   "outputs": [],
   "source": [
    "post_vec = np.array([0,.76908,0,0,0,0.1235, 0,0,.087659, .265789]).reshape(1, -1)\n",
    "j_vec = np.array([0,0.0768,0,0,.789,0, 0,0,.087659, .265789]).reshape(1, -1)\n",
    "pvn = norm(post_vec)\n",
    "jn = norm(j_vec)\n",
    "p = post_vec / pvn\n",
    "j = j_vec / jn"
   ]
  },
  {
   "cell_type": "code",
   "execution_count": 48,
   "metadata": {},
   "outputs": [
    {
     "data": {
      "text/plain": [
       "((1, 10), (1, 10))"
      ]
     },
     "execution_count": 48,
     "metadata": {},
     "output_type": "execute_result"
    }
   ],
   "source": []
  },
  {
   "cell_type": "code",
   "execution_count": 41,
   "metadata": {},
   "outputs": [],
   "source": [
    "def cos_sim(post_v, j_v):\n",
    "    \"\"\"calculates cosign similarity between vectorized post and journal entry\"\"\"\n",
    "    return post_v.dot(j_v) / (norm(post_v) * norm(j_v))"
   ]
  },
  {
   "cell_type": "code",
   "execution_count": 53,
   "metadata": {},
   "outputs": [
    {
     "data": {
      "text/plain": [
       "array([[ 0.1974548]])"
      ]
     },
     "execution_count": 53,
     "metadata": {},
     "output_type": "execute_result"
    }
   ],
   "source": [
    "cos_sim(post_vec, j_vec.T)"
   ]
  },
  {
   "cell_type": "code",
   "execution_count": 23,
   "metadata": {},
   "outputs": [
    {
     "data": {
      "text/plain": [
       "array([[ 0.1974548]])"
      ]
     },
     "execution_count": 23,
     "metadata": {},
     "output_type": "execute_result"
    }
   ],
   "source": [
    "cosine_similarity(post_vec, j_vec)"
   ]
  },
  {
   "cell_type": "code",
   "execution_count": 34,
   "metadata": {},
   "outputs": [
    {
     "data": {
      "text/plain": [
       "array([[ 0.1974548]])"
      ]
     },
     "execution_count": 34,
     "metadata": {},
     "output_type": "execute_result"
    }
   ],
   "source": [
    "linear_kernel(p, j)"
   ]
  },
  {
   "cell_type": "markdown",
   "metadata": {},
   "source": [
    "##### So we can speed things up by:\n",
    "* Pre-norming the tfidf vector and pickling that\n",
    "* Norming the journal vector\n",
    "* Using sklearn.linear_kernel instead of sklearn.cosine_similarity\n",
    "* Also need to place timers\n",
    "\n",
    "#### We will know we are on track when the same journal entry returns identical results with both methods."
   ]
  },
  {
   "cell_type": "markdown",
   "metadata": {},
   "source": [
    "Uh oh! Couldn't do it! I didn't have enough horsepower to pre-norm the vector! Try on EC2?"
   ]
  },
  {
   "cell_type": "code",
   "execution_count": 43,
   "metadata": {
    "collapsed": true
   },
   "outputs": [],
   "source": [
    "# How to norm the rows of a matrix\n",
    "testM = np.array([0,0,0,.5,.2,.6,0,0,0]).reshape(3,3)"
   ]
  },
  {
   "cell_type": "code",
   "execution_count": 55,
   "metadata": {},
   "outputs": [],
   "source": [
    "q = testM / norm(testM, axis=0)"
   ]
  },
  {
   "cell_type": "code",
   "execution_count": 56,
   "metadata": {},
   "outputs": [
    {
     "data": {
      "text/plain": [
       "array([[ 0.,  0.,  0.],\n",
       "       [ 1.,  1.,  1.],\n",
       "       [ 0.,  0.,  0.]])"
      ]
     },
     "execution_count": 56,
     "metadata": {},
     "output_type": "execute_result"
    }
   ],
   "source": [
    "q"
   ]
  },
  {
   "cell_type": "code",
   "execution_count": 2,
   "metadata": {
    "collapsed": true
   },
   "outputs": [],
   "source": [
    "import loseit_nlp as LNLP"
   ]
  },
  {
   "cell_type": "code",
   "execution_count": 19,
   "metadata": {
    "collapsed": true
   },
   "outputs": [],
   "source": [
    "# Snag a sample from the database\n",
    "conn = psycopg2.connect(dbname='loseit', host='localhost')\n",
    "cur = conn.cursor()\n",
    "\n",
    "query = \"\"\"\n",
    "SELECT post_id\n",
    "  , topic_id\n",
    "  , topic\n",
    "  , name\n",
    "  , author_id\n",
    "  , date_posted\n",
    "  , post_body\n",
    "  , library\n",
    "  , page_url\n",
    "FROM posts\n",
    "ORDER BY post_idx\n",
    "LIMIT 10000;\n",
    "\"\"\"\n",
    "\n",
    "cur.execute(query)\n",
    "samples = cur.fetchall()"
   ]
  },
  {
   "cell_type": "code",
   "execution_count": 20,
   "metadata": {},
   "outputs": [
    {
     "data": {
      "text/plain": [
       "10000"
      ]
     },
     "execution_count": 20,
     "metadata": {},
     "output_type": "execute_result"
    }
   ],
   "source": [
    "len(samples)"
   ]
  },
  {
   "cell_type": "code",
   "execution_count": 48,
   "metadata": {
    "collapsed": true
   },
   "outputs": [],
   "source": [
    "# 2.5 minutes for 10,000 samples\n",
    "df, arr, model = LNLP.corpus_df(LNLP.TFIDFER, samples)"
   ]
  },
  {
   "cell_type": "code",
   "execution_count": 54,
   "metadata": {},
   "outputs": [
    {
     "data": {
      "text/plain": [
       "((10000, 3537), scipy.sparse.csr.csr_matrix)"
      ]
     },
     "execution_count": 54,
     "metadata": {},
     "output_type": "execute_result"
    }
   ],
   "source": [
    "arr.shape, type(arr)"
   ]
  },
  {
   "cell_type": "code",
   "execution_count": 50,
   "metadata": {
    "collapsed": true
   },
   "outputs": [],
   "source": [
    "import cPickle as pickle"
   ]
  },
  {
   "cell_type": "code",
   "execution_count": 101,
   "metadata": {
    "collapsed": true
   },
   "outputs": [],
   "source": [
    "with open ('corpus_10K.p', 'wb') as f:\n",
    "    pickle.dump((df, arr), f) # this makes file with 2.2GB holy shit"
   ]
  },
  {
   "cell_type": "code",
   "execution_count": 102,
   "metadata": {
    "collapsed": true
   },
   "outputs": [],
   "source": [
    "with open ('corpus_10K.p', 'wb') as f:\n",
    "    pickle.dump(arr, f) # dense array only, half the size. Nice!"
   ]
  },
  {
   "cell_type": "code",
   "execution_count": 9,
   "metadata": {
    "collapsed": true
   },
   "outputs": [],
   "source": [
    "with open ('corpus_10K.p', 'wb') as f:\n",
    "    pickle.dump(arr, f) # sparse array only; holy crap. Only 12 MB. That seems like the way to do it."
   ]
  },
  {
   "cell_type": "code",
   "execution_count": 52,
   "metadata": {
    "collapsed": true
   },
   "outputs": [],
   "source": [
    "with open('model.pickle', 'wb') as f:\n",
    "    pickle.dump(model, f) # trying again to pickle model\n",
    "    # OMG, it worked!!!\n",
    "    # NOW we are in BUSINESS!!"
   ]
  },
  {
   "cell_type": "code",
   "execution_count": 18,
   "metadata": {},
   "outputs": [
    {
     "data": {
      "text/plain": [
       "sklearn.feature_extraction.text.TfidfVectorizer"
      ]
     },
     "execution_count": 18,
     "metadata": {},
     "output_type": "execute_result"
    }
   ],
   "source": [
    "type(model)"
   ]
  },
  {
   "cell_type": "code",
   "execution_count": 15,
   "metadata": {},
   "outputs": [
    {
     "data": {
      "text/html": [
       "<div>\n",
       "<style>\n",
       "    .dataframe thead tr:only-child th {\n",
       "        text-align: right;\n",
       "    }\n",
       "\n",
       "    .dataframe thead th {\n",
       "        text-align: left;\n",
       "    }\n",
       "\n",
       "    .dataframe tbody tr th {\n",
       "        vertical-align: top;\n",
       "    }\n",
       "</style>\n",
       "<table border=\"1\" class=\"dataframe\">\n",
       "  <thead>\n",
       "    <tr style=\"text-align: right;\">\n",
       "      <th></th>\n",
       "      <th>limited</th>\n",
       "      <th>valve</th>\n",
       "      <th>forget</th>\n",
       "      <th>pardon</th>\n",
       "      <th>represent</th>\n",
       "    </tr>\n",
       "  </thead>\n",
       "  <tbody>\n",
       "    <tr>\n",
       "      <th>43548-1</th>\n",
       "      <td>0.000000</td>\n",
       "      <td>0.0</td>\n",
       "      <td>0.0</td>\n",
       "      <td>0.0</td>\n",
       "      <td>0.0</td>\n",
       "    </tr>\n",
       "    <tr>\n",
       "      <th>43198-1</th>\n",
       "      <td>1.764973</td>\n",
       "      <td>0.0</td>\n",
       "      <td>0.0</td>\n",
       "      <td>0.0</td>\n",
       "      <td>0.0</td>\n",
       "    </tr>\n",
       "    <tr>\n",
       "      <th>43743-1</th>\n",
       "      <td>0.000000</td>\n",
       "      <td>0.0</td>\n",
       "      <td>0.0</td>\n",
       "      <td>0.0</td>\n",
       "      <td>0.0</td>\n",
       "    </tr>\n",
       "  </tbody>\n",
       "</table>\n",
       "</div>"
      ],
      "text/plain": [
       "          limited  valve  forget  pardon  represent\n",
       "43548-1  0.000000    0.0     0.0     0.0        0.0\n",
       "43198-1  1.764973    0.0     0.0     0.0        0.0\n",
       "43743-1  0.000000    0.0     0.0     0.0        0.0"
      ]
     },
     "execution_count": 15,
     "metadata": {},
     "output_type": "execute_result"
    }
   ],
   "source": [
    "df.iloc[:3, :5]"
   ]
  },
  {
   "cell_type": "code",
   "execution_count": 77,
   "metadata": {},
   "outputs": [
    {
     "data": {
      "text/plain": [
       "sklearn.feature_extraction.text.TfidfVectorizer"
      ]
     },
     "execution_count": 77,
     "metadata": {},
     "output_type": "execute_result"
    }
   ],
   "source": [
    "type(model)"
   ]
  },
  {
   "cell_type": "code",
   "execution_count": 22,
   "metadata": {
    "collapsed": true
   },
   "outputs": [],
   "source": [
    "j_entry = \"\"\"\n",
    "I think I'm falling off the wagon because I am not getting much exercise. I'm under a lot of stress at work, and I keep binge eating when I get home at night. I'm tired and not getting as much sleep as I would like. And sometimes, logging foods just feels tedious.\n",
    "\"\"\""
   ]
  },
  {
   "cell_type": "code",
   "execution_count": 23,
   "metadata": {
    "collapsed": true
   },
   "outputs": [],
   "source": [
    "test_run = LNLP.MatchPosts(df, model, j_entry, N=2)"
   ]
  },
  {
   "cell_type": "code",
   "execution_count": 24,
   "metadata": {
    "collapsed": true
   },
   "outputs": [],
   "source": [
    "X = test_run.match_posts()"
   ]
  },
  {
   "cell_type": "code",
   "execution_count": 25,
   "metadata": {},
   "outputs": [
    {
     "data": {
      "text/html": [
       "<div>\n",
       "<style>\n",
       "    .dataframe thead tr:only-child th {\n",
       "        text-align: right;\n",
       "    }\n",
       "\n",
       "    .dataframe thead th {\n",
       "        text-align: left;\n",
       "    }\n",
       "\n",
       "    .dataframe tbody tr th {\n",
       "        vertical-align: top;\n",
       "    }\n",
       "</style>\n",
       "<table border=\"1\" class=\"dataframe\">\n",
       "  <thead>\n",
       "    <tr style=\"text-align: right;\">\n",
       "      <th></th>\n",
       "      <th>cos_sim</th>\n",
       "    </tr>\n",
       "  </thead>\n",
       "  <tbody>\n",
       "    <tr>\n",
       "      <th>27610-1</th>\n",
       "      <td>0.366836</td>\n",
       "    </tr>\n",
       "    <tr>\n",
       "      <th>35928-1</th>\n",
       "      <td>0.348755</td>\n",
       "    </tr>\n",
       "  </tbody>\n",
       "</table>\n",
       "</div>"
      ],
      "text/plain": [
       "          cos_sim\n",
       "27610-1  0.366836\n",
       "35928-1  0.348755"
      ]
     },
     "execution_count": 25,
     "metadata": {},
     "output_type": "execute_result"
    }
   ],
   "source": [
    "X"
   ]
  },
  {
   "cell_type": "code",
   "execution_count": 26,
   "metadata": {
    "collapsed": true
   },
   "outputs": [],
   "source": [
    "from post_retriever import OutputResults"
   ]
  },
  {
   "cell_type": "code",
   "execution_count": 44,
   "metadata": {
    "collapsed": true
   },
   "outputs": [],
   "source": [
    "test_print = OutputResults(X)"
   ]
  },
  {
   "cell_type": "code",
   "execution_count": 46,
   "metadata": {},
   "outputs": [
    {
     "name": "stdout",
     "output_type": "stream",
     "text": [
      "\n",
      "==========================\n",
      "Post_ID: 27610-1, Topic: Exersice or Sleep: Which is more important??\n",
      "\n",
      "Posted by: Paige on 12/13/2012\n",
      "\n",
      "Over the past few months, I have been insanely busy. My average night's sleep in 4 hours (sometimes just 1 hour), and I will try to get a half hour nap in when I can.\n",
      "\n",
      " I started working in NYC from NJ back in September, so I am out of the house for work from 7am-7pm. I also started grad school in September. I am taking double credits so that I can achieve my MBA degree within a year. I feel like I never sleep. I always have work that needs to get done, and I am always ALWAYS stressed out. Luckily this semester is almost over. My finals are next week!\n",
      "\n",
      " With this schedule, I try to work out at least twice a week, and some weeks I've been able to get in 5 days at the gym, but I just can't seem to lose any weight. I convince myself that I can just go to the gym for an hour and then my reward is going to bed. Of course after the working out, I can't sleep! Waking up is the worst right now.\n",
      "\n",
      " As far as diet goes, the first month I was over-eating. I only gained 3 pounds, but it was still discouraging. Now that I've been able to get used to this schedule, I am eating smarter, scheduled meals. I am logging food and everything, but I only lost two of the three pounds that I gained. I really do feel that not sleeping has a lot to do with it, but I also know that I am not working out as much as I used to.\n",
      "\n",
      " So after boring everyone with the stress of my life, please give me advice! Tonight I can either get a full night of sleep, head to the gym, study for my finals, or go Christmas shopping (which I haven't even started. more stress   ). \n",
      " Usually I would try to get at least two of these done, but I am just SO tired! What should I do?? I really wanted to lose weight for the holidays.\n",
      "\n",
      " Thank you in advance!\n",
      " Paige\n",
      "\n",
      "URL: https://forums.loseit.com/posts/list/27610.page\n",
      "\n",
      "\n",
      "==========================\n",
      "Post_ID: 35928-1, Topic: Stress, Sleep and Weight Loss.\n",
      "\n",
      "Posted by: Olga on 04/26/2014\n",
      "\n",
      "Hi! \n",
      " I have read so many times that Stress and not enough sleep is very bad for Wight Loss.\n",
      "\n",
      " What do you guys think about it?\n",
      "\n",
      " One doctor told me to better exercise less and reduce stress, than exercise more and be stressed about it.\n",
      "\n",
      " Any thoughts on it?\n",
      "\n",
      " Thank you!\n",
      "\n",
      "URL: https://forums.loseit.com/posts/list/35928.page\n",
      "\n"
     ]
    }
   ],
   "source": [
    "test_print.print_results()"
   ]
  },
  {
   "cell_type": "code",
   "execution_count": null,
   "metadata": {
    "collapsed": true
   },
   "outputs": [],
   "source": []
  },
  {
   "cell_type": "code",
   "execution_count": 97,
   "metadata": {},
   "outputs": [
    {
     "data": {
      "text/plain": [
       "['27610-1', '35928-1', '26144-1', '26917-1', '8498-1']"
      ]
     },
     "execution_count": 97,
     "metadata": {},
     "output_type": "execute_result"
    }
   ],
   "source": [
    "list(X.index)"
   ]
  },
  {
   "cell_type": "code",
   "execution_count": 82,
   "metadata": {},
   "outputs": [
    {
     "data": {
      "text/plain": [
       "array([[ 0.,  0.,  0.,  0.,  0.],\n",
       "       [ 0.,  0.,  0.,  0.,  0.],\n",
       "       [ 0.,  0.,  0.,  0.,  0.],\n",
       "       ..., \n",
       "       [ 0.,  0.,  0.,  0.,  0.],\n",
       "       [ 0.,  0.,  0.,  0.,  0.],\n",
       "       [ 0.,  0.,  0.,  0.,  0.]])"
      ]
     },
     "execution_count": 82,
     "metadata": {},
     "output_type": "execute_result"
    }
   ],
   "source": [
    "test_run.j_M"
   ]
  },
  {
   "cell_type": "code",
   "execution_count": 83,
   "metadata": {},
   "outputs": [
    {
     "data": {
      "text/html": [
       "<div>\n",
       "<style>\n",
       "    .dataframe thead tr:only-child th {\n",
       "        text-align: right;\n",
       "    }\n",
       "\n",
       "    .dataframe thead th {\n",
       "        text-align: left;\n",
       "    }\n",
       "\n",
       "    .dataframe tbody tr th {\n",
       "        vertical-align: top;\n",
       "    }\n",
       "</style>\n",
       "<table border=\"1\" class=\"dataframe\">\n",
       "  <thead>\n",
       "    <tr style=\"text-align: right;\">\n",
       "      <th></th>\n",
       "      <th>?</th>\n",
       "      <th>!</th>\n",
       "      <th>calorie</th>\n",
       "      <th>weight</th>\n",
       "      <th>lose</th>\n",
       "    </tr>\n",
       "  </thead>\n",
       "  <tbody>\n",
       "    <tr>\n",
       "      <th>3203-1</th>\n",
       "      <td>0.0</td>\n",
       "      <td>1.446856</td>\n",
       "      <td>0.0</td>\n",
       "      <td>0.000000</td>\n",
       "      <td>0.0</td>\n",
       "    </tr>\n",
       "    <tr>\n",
       "      <th>3105-1</th>\n",
       "      <td>0.0</td>\n",
       "      <td>1.446856</td>\n",
       "      <td>0.0</td>\n",
       "      <td>0.000000</td>\n",
       "      <td>0.0</td>\n",
       "    </tr>\n",
       "    <tr>\n",
       "      <th>5408-1</th>\n",
       "      <td>0.0</td>\n",
       "      <td>0.000000</td>\n",
       "      <td>0.0</td>\n",
       "      <td>2.098812</td>\n",
       "      <td>0.0</td>\n",
       "    </tr>\n",
       "  </tbody>\n",
       "</table>\n",
       "</div>"
      ],
      "text/plain": [
       "          ?         !  calorie    weight  lose\n",
       "3203-1  0.0  1.446856      0.0  0.000000   0.0\n",
       "3105-1  0.0  1.446856      0.0  0.000000   0.0\n",
       "5408-1  0.0  0.000000      0.0  2.098812   0.0"
      ]
     },
     "execution_count": 83,
     "metadata": {},
     "output_type": "execute_result"
    }
   ],
   "source": [
    "test_run.archive_df[:3]"
   ]
  },
  {
   "cell_type": "code",
   "execution_count": 40,
   "metadata": {},
   "outputs": [
    {
     "data": {
      "text/plain": [
       "array([[ 0.        ,  0.        ,  0.        ,  0.        ,  0.        ,\n",
       "         0.        ,  0.        ,  0.        ,  0.        ,  2.09861229,\n",
       "         2.09861229,  0.        ,  0.        ,  0.        ,  0.        ,\n",
       "         0.        ,  0.        ,  0.        ,  0.        ,  0.        ,\n",
       "         0.        ,  0.        ,  0.        ,  0.        ,  0.        ,\n",
       "         0.        ,  0.        ,  0.        ,  0.        ,  0.        ,\n",
       "         1.84729786,  0.        ,  0.        ,  0.        ,  0.        ,\n",
       "         0.        ,  0.        ,  0.        ,  0.        ]])"
      ]
     },
     "execution_count": 40,
     "metadata": {},
     "output_type": "execute_result"
    }
   ],
   "source": [
    "test_vec = test_run.journal_tfidf()\n",
    "test_vec"
   ]
  },
  {
   "cell_type": "code",
   "execution_count": 43,
   "metadata": {},
   "outputs": [
    {
     "data": {
      "text/plain": [
       "(20, 39)"
      ]
     },
     "execution_count": 43,
     "metadata": {},
     "output_type": "execute_result"
    }
   ],
   "source": [
    "test_tile = test_run.tile_j_M()\n",
    "test_tile.shape"
   ]
  },
  {
   "cell_type": "code",
   "execution_count": 45,
   "metadata": {
    "collapsed": true
   },
   "outputs": [],
   "source": [
    "sims = test_run.cos_sim_vector()"
   ]
  },
  {
   "cell_type": "code",
   "execution_count": 55,
   "metadata": {},
   "outputs": [
    {
     "data": {
      "text/html": [
       "<div>\n",
       "<style>\n",
       "    .dataframe thead tr:only-child th {\n",
       "        text-align: right;\n",
       "    }\n",
       "\n",
       "    .dataframe thead th {\n",
       "        text-align: left;\n",
       "    }\n",
       "\n",
       "    .dataframe tbody tr th {\n",
       "        vertical-align: top;\n",
       "    }\n",
       "</style>\n",
       "<table border=\"1\" class=\"dataframe\">\n",
       "  <thead>\n",
       "    <tr style=\"text-align: right;\">\n",
       "      <th></th>\n",
       "      <th>cos_sim</th>\n",
       "    </tr>\n",
       "  </thead>\n",
       "  <tbody>\n",
       "    <tr>\n",
       "      <th>36492-7</th>\n",
       "      <td>0.341849</td>\n",
       "    </tr>\n",
       "    <tr>\n",
       "      <th>36492-5</th>\n",
       "      <td>0.326868</td>\n",
       "    </tr>\n",
       "    <tr>\n",
       "      <th>36492-10</th>\n",
       "      <td>0.294591</td>\n",
       "    </tr>\n",
       "  </tbody>\n",
       "</table>\n",
       "</div>"
      ],
      "text/plain": [
       "           cos_sim\n",
       "36492-7   0.341849\n",
       "36492-5   0.326868\n",
       "36492-10  0.294591"
      ]
     },
     "execution_count": 55,
     "metadata": {},
     "output_type": "execute_result"
    }
   ],
   "source": [
    "test_res = test_run.results()\n",
    "test_res"
   ]
  },
  {
   "cell_type": "code",
   "execution_count": 54,
   "metadata": {},
   "outputs": [
    {
     "ename": "NameError",
     "evalue": "name 'norm_array' is not defined",
     "output_type": "error",
     "traceback": [
      "\u001b[0;31m---------------------------------------------------------------------------\u001b[0m",
      "\u001b[0;31mNameError\u001b[0m                                 Traceback (most recent call last)",
      "\u001b[0;32m<ipython-input-54-f1322cd49070>\u001b[0m in \u001b[0;36m<module>\u001b[0;34m()\u001b[0m\n\u001b[0;32m----> 1\u001b[0;31m \u001b[0mnorms\u001b[0m \u001b[0;34m=\u001b[0m \u001b[0mnorm_array\u001b[0m\u001b[0;34m(\u001b[0m\u001b[0msamples\u001b[0m\u001b[0;34m)\u001b[0m\u001b[0;34m\u001b[0m\u001b[0m\n\u001b[0m",
      "\u001b[0;31mNameError\u001b[0m: name 'norm_array' is not defined"
     ]
    }
   ],
   "source": [
    "norms = norm_array(samples)"
   ]
  },
  {
   "cell_type": "code",
   "execution_count": 20,
   "metadata": {
    "collapsed": true
   },
   "outputs": [],
   "source": [
    "post_ids = [tup[0] for tup in norms]\n",
    "norm_figs = [tup[1] for tup in norms]\n",
    "cols = ['post_id', 'vec_norm']\n",
    "\n",
    "df = pd.DataFrame(data=norms, columns=cols)"
   ]
  },
  {
   "cell_type": "code",
   "execution_count": 66,
   "metadata": {},
   "outputs": [
    {
     "data": {
      "text/plain": [
       "(1838, 1838)"
      ]
     },
     "execution_count": 66,
     "metadata": {},
     "output_type": "execute_result"
    }
   ],
   "source": [
    "# when you dot multiply two vectors, does the order matter? Apparently not.\n",
    "a = np.array([2, 5, 6, 7, 8])\n",
    "b = np.array([45, 36, 45, 78, 94])\n",
    "a.dot(b), b.dot(a)"
   ]
  },
  {
   "cell_type": "code",
   "execution_count": 79,
   "metadata": {},
   "outputs": [
    {
     "name": "stdout",
     "output_type": "stream",
     "text": [
      "[[1022  901    0]\n",
      " [1022  901    0]\n",
      " [1022  901    0]]\n",
      "\n",
      "\n",
      "[[1022 1022 1022]\n",
      " [ 901  901  901]\n",
      " [   0    0    0]]\n"
     ]
    }
   ],
   "source": [
    "# Now, let's add dimensionality, like our situation where a = tiled j\n",
    "j = np.array([[2, 5, 0, 7, 8], [2, 5, 0, 7, 8], [2, 5, 0, 7, 8]])\n",
    "b = np.array([[45, 36, 45, 0, 94],[33, 33, 0, 34, 54], [0, 0 ,0, 0, 0]] )\n",
    "print j.dot(b.T)\n",
    "print '\\n'\n",
    "print b.dot(j.T)\n",
    "# It does matter. Although the values are the same, the results are rotated\n",
    "# 90 degrees\n",
    "# The only thing left now is to figure out which numbers match which\n",
    "'''\n",
    "CONCLUSION: We like multiplying the archive.dot(journal_entry), then taking\n",
    "any COLUMN as the cosign similarities between each row and the journal.\n",
    "\n",
    "1. So, to pull this off, we need to tile our vectorized journal entry into\n",
    "a matrix that is the same entire size as the archive...\n",
    "\n",
    "2. Run both matrices through sklearn cosine_similarity\n",
    "\n",
    "3. Harvest any column and add that to the dataframe\n",
    "\n",
    "4. Retrieve the post ids closest to 1.0\n",
    "\n",
    "5. Retrieve the cleaned up post body or url.\n",
    "\n",
    "'''"
   ]
  },
  {
   "cell_type": "code",
   "execution_count": 29,
   "metadata": {
    "collapsed": true
   },
   "outputs": [],
   "source": [
    "from sklearn.metrics.pairwise import cosine_similarity"
   ]
  },
  {
   "cell_type": "code",
   "execution_count": 50,
   "metadata": {
    "collapsed": true
   },
   "outputs": [],
   "source": [
    "this = np.random.choice(range(2,15), size=(4, 50))\n",
    "that = np.random.choice(range(2, 15), size=(1, 50))\n"
   ]
  },
  {
   "cell_type": "code",
   "execution_count": 56,
   "metadata": {
    "collapsed": true
   },
   "outputs": [
    {
     "data": {
      "text/plain": [
       "array([[ 8, 14, 13,  9, 12, 10,  4,  5,  3, 14, 11,  9, 11, 13, 13, 14,  9,\n",
       "         6,  4, 13,  9, 13, 10,  7,  9,  3,  6, 12,  5,  2,  2,  8, 11,  8,\n",
       "        13,  2,  3,  6,  2, 13,  6, 14,  7, 13,  2,  7, 12,  9, 13,  3],\n",
       "       [ 8, 14, 13,  9, 12, 10,  4,  5,  3, 14, 11,  9, 11, 13, 13, 14,  9,\n",
       "         6,  4, 13,  9, 13, 10,  7,  9,  3,  6, 12,  5,  2,  2,  8, 11,  8,\n",
       "        13,  2,  3,  6,  2, 13,  6, 14,  7, 13,  2,  7, 12,  9, 13,  3],\n",
       "       [ 8, 14, 13,  9, 12, 10,  4,  5,  3, 14, 11,  9, 11, 13, 13, 14,  9,\n",
       "         6,  4, 13,  9, 13, 10,  7,  9,  3,  6, 12,  5,  2,  2,  8, 11,  8,\n",
       "        13,  2,  3,  6,  2, 13,  6, 14,  7, 13,  2,  7, 12,  9, 13,  3],\n",
       "       [ 8, 14, 13,  9, 12, 10,  4,  5,  3, 14, 11,  9, 11, 13, 13, 14,  9,\n",
       "         6,  4, 13,  9, 13, 10,  7,  9,  3,  6, 12,  5,  2,  2,  8, 11,  8,\n",
       "        13,  2,  3,  6,  2, 13,  6, 14,  7, 13,  2,  7, 12,  9, 13,  3]])"
      ]
     },
     "execution_count": 56,
     "metadata": {},
     "output_type": "execute_result"
    }
   ],
   "source": [
    "# make an array of repeated rows\n",
    "yo = np.tile(that, 4).reshape(4,50)\n",
    "yo"
   ]
  },
  {
   "cell_type": "code",
   "execution_count": 76,
   "metadata": {},
   "outputs": [
    {
     "name": "stdout",
     "output_type": "stream",
     "text": [
      "[[ 0.78957739  0.849316    0.77042722  0.80133563]\n",
      " [ 0.78957739  0.849316    0.77042722  0.80133563]\n",
      " [ 0.78957739  0.849316    0.77042722  0.80133563]\n",
      " [ 0.78957739  0.849316    0.77042722  0.80133563]]\n",
      "\n",
      "\n",
      "[[ 0.78957739  0.78957739  0.78957739  0.78957739]\n",
      " [ 0.849316    0.849316    0.849316    0.849316  ]\n",
      " [ 0.77042722  0.77042722  0.77042722  0.77042722]\n",
      " [ 0.80133563  0.80133563  0.80133563  0.80133563]]\n",
      "\n",
      "\n",
      "[ 0.80133563  0.77042722  0.849316    0.78957739]\n"
     ]
    }
   ],
   "source": [
    "sims = cosine_similarity(yo, this)\n",
    "sims2 = cosine_similarity(this, yo)\n",
    "print sims\n",
    "print '\\n'\n",
    "print sims2\n",
    "print '\\n'\n",
    "print np.rot90(sims)[:,0]"
   ]
  },
  {
   "cell_type": "code",
   "execution_count": 26,
   "metadata": {},
   "outputs": [
    {
     "name": "stdout",
     "output_type": "stream",
     "text": [
      "What's up?I'm tired. I have not been working out, and I'm already hanging off the wagon.\n"
     ]
    }
   ],
   "source": [
    "j = journal_norm()"
   ]
  },
  {
   "cell_type": "code",
   "execution_count": 36,
   "metadata": {},
   "outputs": [
    {
     "data": {
      "text/plain": [
       "0     11.448127\n",
       "1     11.539718\n",
       "2      9.398894\n",
       "3     26.290084\n",
       "4     18.403477\n",
       "5     18.862995\n",
       "6      7.370715\n",
       "7     25.845860\n",
       "8      4.901380\n",
       "9     17.106235\n",
       "10    10.851570\n",
       "11    15.585636\n",
       "12     3.119232\n",
       "13     8.331229\n",
       "14    25.023286\n",
       "15    33.481427\n",
       "16    11.492370\n",
       "17     6.319651\n",
       "18    19.891184\n",
       "19     8.096383\n",
       "Name: vec_norm, dtype: float64"
      ]
     },
     "execution_count": 36,
     "metadata": {},
     "output_type": "execute_result"
    }
   ],
   "source": [
    "df['vec_norm']"
   ]
  },
  {
   "cell_type": "code",
   "execution_count": 219,
   "metadata": {
    "collapsed": true
   },
   "outputs": [
    {
     "data": {
      "text/plain": [
       "{\"'m\",\n",
       " \"'s\",\n",
       " u'a',\n",
       " u'about',\n",
       " u'above',\n",
       " 'across',\n",
       " u'after',\n",
       " 'afterwards',\n",
       " u'again',\n",
       " u'against',\n",
       " u'ain',\n",
       " u'all',\n",
       " 'almost',\n",
       " 'alone',\n",
       " 'along',\n",
       " 'already',\n",
       " 'also',\n",
       " 'although',\n",
       " 'always',\n",
       " u'am',\n",
       " 'among',\n",
       " 'amongst',\n",
       " 'amoungst',\n",
       " 'amount',\n",
       " u'an',\n",
       " u'and',\n",
       " 'another',\n",
       " u'any',\n",
       " 'anyhow',\n",
       " 'anyone',\n",
       " 'anything',\n",
       " 'anyway',\n",
       " 'anywhere',\n",
       " u'are',\n",
       " u'aren',\n",
       " 'around',\n",
       " u'as',\n",
       " u'at',\n",
       " 'back',\n",
       " u'be',\n",
       " 'became',\n",
       " u'because',\n",
       " 'become',\n",
       " 'becomes',\n",
       " 'becoming',\n",
       " u'been',\n",
       " u'before',\n",
       " 'beforehand',\n",
       " 'behind',\n",
       " u'being',\n",
       " u'below',\n",
       " 'beside',\n",
       " 'besides',\n",
       " u'between',\n",
       " 'beyond',\n",
       " 'bill',\n",
       " u'both',\n",
       " 'bottom',\n",
       " u'but',\n",
       " u'by',\n",
       " 'ca',\n",
       " 'call',\n",
       " u'can',\n",
       " 'cannot',\n",
       " 'cant',\n",
       " 'co',\n",
       " 'con',\n",
       " 'could',\n",
       " u'couldn',\n",
       " 'couldnt',\n",
       " 'cry',\n",
       " u'd',\n",
       " 'de',\n",
       " 'describe',\n",
       " 'detail',\n",
       " u'did',\n",
       " u'didn',\n",
       " u'do',\n",
       " u'does',\n",
       " u'doesn',\n",
       " u'doing',\n",
       " u'don',\n",
       " 'done',\n",
       " u'down',\n",
       " 'due',\n",
       " u'during',\n",
       " u'each',\n",
       " 'eg',\n",
       " 'eight',\n",
       " 'either',\n",
       " 'eleven',\n",
       " 'else',\n",
       " 'elsewhere',\n",
       " 'empty',\n",
       " 'enough',\n",
       " 'etc',\n",
       " 'even',\n",
       " 'ever',\n",
       " 'every',\n",
       " 'everyone',\n",
       " 'everything',\n",
       " 'everywhere',\n",
       " 'except',\n",
       " u'few',\n",
       " 'fifteen',\n",
       " 'fifty',\n",
       " 'fill',\n",
       " 'find',\n",
       " 'fire',\n",
       " 'first',\n",
       " 'five',\n",
       " u'for',\n",
       " 'former',\n",
       " 'formerly',\n",
       " 'forty',\n",
       " 'found',\n",
       " 'four',\n",
       " u'from',\n",
       " 'front',\n",
       " 'full',\n",
       " u'further',\n",
       " 'get',\n",
       " 'give',\n",
       " 'go',\n",
       " u'had',\n",
       " u'hadn',\n",
       " u'has',\n",
       " u'hasn',\n",
       " 'hasnt',\n",
       " u'have',\n",
       " u'haven',\n",
       " u'having',\n",
       " u'he',\n",
       " 'hence',\n",
       " u'her',\n",
       " u'here',\n",
       " 'hereafter',\n",
       " 'hereby',\n",
       " 'herein',\n",
       " 'hereupon',\n",
       " u'hers',\n",
       " u'herself',\n",
       " u'him',\n",
       " u'himself',\n",
       " u'his',\n",
       " u'how',\n",
       " 'however',\n",
       " 'hundred',\n",
       " u'i',\n",
       " 'ie',\n",
       " u'if',\n",
       " u'in',\n",
       " 'inc',\n",
       " 'indeed',\n",
       " 'interest',\n",
       " u'into',\n",
       " u'is',\n",
       " u'isn',\n",
       " u'it',\n",
       " u'its',\n",
       " u'itself',\n",
       " u'just',\n",
       " 'keep',\n",
       " 'last',\n",
       " 'latter',\n",
       " 'latterly',\n",
       " 'least',\n",
       " 'less',\n",
       " u'll',\n",
       " 'ltd',\n",
       " u'm',\n",
       " u'ma',\n",
       " 'made',\n",
       " 'many',\n",
       " 'may',\n",
       " u'me',\n",
       " 'meanwhile',\n",
       " 'might',\n",
       " u'mightn',\n",
       " 'mill',\n",
       " 'mine',\n",
       " u'more',\n",
       " 'moreover',\n",
       " u'most',\n",
       " 'mostly',\n",
       " 'move',\n",
       " 'much',\n",
       " 'must',\n",
       " u'mustn',\n",
       " u'my',\n",
       " u'myself',\n",
       " \"n't\",\n",
       " 'name',\n",
       " 'namely',\n",
       " u'needn',\n",
       " 'neither',\n",
       " 'never',\n",
       " 'nevertheless',\n",
       " 'next',\n",
       " 'nine',\n",
       " u'no',\n",
       " 'nobody',\n",
       " 'none',\n",
       " 'noone',\n",
       " u'nor',\n",
       " u'not',\n",
       " 'nothing',\n",
       " u'now',\n",
       " 'nowhere',\n",
       " u'o',\n",
       " u'of',\n",
       " u'off',\n",
       " 'often',\n",
       " u'on',\n",
       " u'once',\n",
       " 'one',\n",
       " u'only',\n",
       " 'onto',\n",
       " u'or',\n",
       " u'other',\n",
       " 'others',\n",
       " 'otherwise',\n",
       " u'our',\n",
       " u'ours',\n",
       " u'ourselves',\n",
       " u'out',\n",
       " u'over',\n",
       " u'own',\n",
       " 'part',\n",
       " 'per',\n",
       " 'perhaps',\n",
       " 'please',\n",
       " 'put',\n",
       " 'rather',\n",
       " u're',\n",
       " u's',\n",
       " u'same',\n",
       " 'see',\n",
       " 'seem',\n",
       " 'seemed',\n",
       " 'seeming',\n",
       " 'seems',\n",
       " 'serious',\n",
       " 'several',\n",
       " u'shan',\n",
       " u'she',\n",
       " u'should',\n",
       " u'shouldn',\n",
       " 'show',\n",
       " 'side',\n",
       " 'since',\n",
       " 'sincere',\n",
       " 'six',\n",
       " 'sixty',\n",
       " u'so',\n",
       " u'some',\n",
       " 'somehow',\n",
       " 'someone',\n",
       " 'something',\n",
       " 'sometime',\n",
       " 'sometimes',\n",
       " 'somewhere',\n",
       " 'still',\n",
       " u'such',\n",
       " 'system',\n",
       " u't',\n",
       " 'take',\n",
       " 'ten',\n",
       " u'than',\n",
       " u'that',\n",
       " u'the',\n",
       " u'their',\n",
       " u'theirs',\n",
       " u'them',\n",
       " u'themselves',\n",
       " u'then',\n",
       " 'thence',\n",
       " u'there',\n",
       " 'thereafter',\n",
       " 'thereby',\n",
       " 'therefore',\n",
       " 'therein',\n",
       " 'thereupon',\n",
       " u'these',\n",
       " u'they',\n",
       " 'thick',\n",
       " 'thin',\n",
       " 'third',\n",
       " u'this',\n",
       " u'those',\n",
       " 'though',\n",
       " 'three',\n",
       " u'through',\n",
       " 'throughout',\n",
       " 'thru',\n",
       " 'thus',\n",
       " u'to',\n",
       " 'together',\n",
       " u'too',\n",
       " 'top',\n",
       " 'toward',\n",
       " 'towards',\n",
       " 'twelve',\n",
       " 'twenty',\n",
       " 'two',\n",
       " 'un',\n",
       " u'under',\n",
       " u'until',\n",
       " u'up',\n",
       " 'upon',\n",
       " 'us',\n",
       " u've',\n",
       " u'very',\n",
       " 'via',\n",
       " u'was',\n",
       " u'wasn',\n",
       " u'we',\n",
       " 'well',\n",
       " u'were',\n",
       " u'weren',\n",
       " u'what',\n",
       " 'whatever',\n",
       " u'when',\n",
       " 'whence',\n",
       " 'whenever',\n",
       " u'where',\n",
       " 'whereafter',\n",
       " 'whereas',\n",
       " 'whereby',\n",
       " 'wherein',\n",
       " 'whereupon',\n",
       " 'wherever',\n",
       " 'whether',\n",
       " u'which',\n",
       " u'while',\n",
       " 'whither',\n",
       " u'who',\n",
       " 'whoever',\n",
       " 'whole',\n",
       " u'whom',\n",
       " 'whose',\n",
       " u'why',\n",
       " u'will',\n",
       " u'with',\n",
       " 'within',\n",
       " 'without',\n",
       " u'won',\n",
       " 'would',\n",
       " u'wouldn',\n",
       " u'y',\n",
       " 'yet',\n",
       " u'you',\n",
       " u'your',\n",
       " u'yours',\n",
       " u'yourself',\n",
       " u'yourselves'}"
      ]
     },
     "execution_count": 219,
     "metadata": {},
     "output_type": "execute_result"
    }
   ],
   "source": [
    "STOPLIST"
   ]
  },
  {
   "cell_type": "code",
   "execution_count": 227,
   "metadata": {},
   "outputs": [
    {
     "data": {
      "text/plain": [
       "20"
      ]
     },
     "execution_count": 227,
     "metadata": {},
     "output_type": "execute_result"
    }
   ],
   "source": [
    "# make a list of all the text samples, tuple(post_id, unicode.body)\n",
    "wagon_thread = [(sample[0], sample[6].decode('utf-8')) for sample in samples] \n",
    "len(wagon_thread)"
   ]
  },
  {
   "cell_type": "code",
   "execution_count": 228,
   "metadata": {},
   "outputs": [
    {
     "data": {
      "text/plain": [
       "u'I\\'m one of THOSE people - I get all jazzed up about losing weight and exercising, I get my plan all set in place (I love lists and charts), then when it comes to actually DOING it, after about a day, 3 days, a week, I fail. I\\'ll have a mountain dew, I\\'ll skip a workout, I\\'ll order a burger instead of fish, etc.\\n\\n Now, failure is a part of life. These things happen. Intellectually, I understand this. Emotionally, I do not. As soon as I \"screw up\", I (figuratively) throw my hands in the air and give up on it all. Suffering from perfectionism, I see this one black mark and decide that everything is ruined, I\\'m a failure, I\\'ll never achieve my goals - and therefore eat whatever I want, whenever I want, and sit on the couch, binge-watching TV on Netflix in order to escape the feelings of despair, disappointment, and helplessness that come with failure.\\n\\n I need advice - how do you accept failure? How do you forgive yourself when you \"screw up\"? How do you pick yourself back up and get back on the wagon?'"
      ]
     },
     "execution_count": 228,
     "metadata": {},
     "output_type": "execute_result"
    }
   ],
   "source": [
    "samp_post = wagon_thread[0][1]\n",
    "samp_post"
   ]
  },
  {
   "cell_type": "code",
   "execution_count": 229,
   "metadata": {},
   "outputs": [
    {
     "data": {
      "text/plain": [
       "u'i am one of those people - i get all jazzed up about losing weight and exercising, i get my plan all set in place (i love lists and charts), then when it comes to actually doing it, after about a day, 3 days, a week, i fail. i will have a mountain dew, i will skip a workout, i will order a burger instead of fish, etc.   now, failure is a part of life. these things happen. intellectually, i understand this. emotionally, i do not. as soon as i \"screw up\", i (figuratively) throw my hands in the air and give up on it all. suffering from perfectionism, i see this one black mark and decide that everything is ruined, i am a failure, i will never achieve my goals - and therefore eat whatever i want, whenever i want, and sit on the couch, binge-watching tv on netflix in order to escape the feelings of despair, disappointment, and helplessness that come with failure.   i need advice - how do you accept failure? how do you forgive yourself when you \"screw up\"? how do you pick yourself back up and get back on the wagon?'"
      ]
     },
     "execution_count": 229,
     "metadata": {},
     "output_type": "execute_result"
    }
   ],
   "source": [
    "cleaned = cleanText(samp_post)\n",
    "cleaned"
   ]
  },
  {
   "cell_type": "code",
   "execution_count": 230,
   "metadata": {
    "collapsed": true
   },
   "outputs": [],
   "source": [
    "tokenized_samp = tokenizeText(cleaned)"
   ]
  },
  {
   "cell_type": "code",
   "execution_count": 231,
   "metadata": {
    "collapsed": true
   },
   "outputs": [
    {
     "data": {
      "text/plain": [
       "[u'people',\n",
       " u'jazz',\n",
       " u'lose',\n",
       " u'weight',\n",
       " u'exercise',\n",
       " u'plan',\n",
       " u'set',\n",
       " u'place',\n",
       " u'love',\n",
       " u'list',\n",
       " u'chart',\n",
       " u'come',\n",
       " u'actually',\n",
       " u'day',\n",
       " u'3',\n",
       " u'day',\n",
       " u'week',\n",
       " u'fail',\n",
       " u'mountain',\n",
       " u'dew',\n",
       " u'skip',\n",
       " u'workout',\n",
       " u'order',\n",
       " u'burger',\n",
       " u'instead',\n",
       " u'fish',\n",
       " u'failure',\n",
       " u'life',\n",
       " u'thing',\n",
       " u'happen',\n",
       " u'intellectually',\n",
       " u'understand',\n",
       " u'emotionally',\n",
       " u'soon',\n",
       " u'screw',\n",
       " u'figuratively',\n",
       " u'throw',\n",
       " u'hand',\n",
       " u'air',\n",
       " u'suffer',\n",
       " u'perfectionism',\n",
       " u'black',\n",
       " u'mark',\n",
       " u'decide',\n",
       " u'ruin',\n",
       " u'failure',\n",
       " u'achieve',\n",
       " u'goal',\n",
       " u'eat',\n",
       " u'whatev',\n",
       " u'want',\n",
       " u'want',\n",
       " u'sit',\n",
       " u'couch',\n",
       " u'binge',\n",
       " u'watch',\n",
       " u'tv',\n",
       " u'netflix',\n",
       " u'order',\n",
       " u'escape',\n",
       " u'feeling',\n",
       " u'despair',\n",
       " u'disappointment',\n",
       " u'helplessness',\n",
       " u'come',\n",
       " u'failure',\n",
       " u'ne',\n",
       " u'advice',\n",
       " u'accept',\n",
       " u'failure',\n",
       " u'?',\n",
       " u'forgive',\n",
       " u'screw',\n",
       " u'?',\n",
       " u'pick',\n",
       " u'wagon',\n",
       " u'?']"
      ]
     },
     "execution_count": 231,
     "metadata": {},
     "output_type": "execute_result"
    }
   ],
   "source": [
    "tokenized_samp"
   ]
  },
  {
   "cell_type": "code",
   "execution_count": 234,
   "metadata": {
    "collapsed": true
   },
   "outputs": [],
   "source": [
    "vectorizer = CountVectorizer(tokenizer=tokenizeText, ngram_range=(1,1))"
   ]
  },
  {
   "cell_type": "code",
   "execution_count": 239,
   "metadata": {},
   "outputs": [
    {
     "data": {
      "text/plain": [
       "sklearn.feature_extraction.text.CountVectorizer"
      ]
     },
     "execution_count": 239,
     "metadata": {},
     "output_type": "execute_result"
    }
   ],
   "source": []
  },
  {
   "cell_type": "code",
   "execution_count": 243,
   "metadata": {
    "collapsed": true
   },
   "outputs": [],
   "source": [
    "# Started our pipeline. How do I feed my collection of raw texts into it?\n",
    "pipe = Pipeline([\n",
    "    ('cleanText', CleanTextTransformer()),\n",
    "    ('vectorizer', vectorizer)\n",
    "     ])"
   ]
  },
  {
   "cell_type": "code",
   "execution_count": 444,
   "metadata": {
    "collapsed": true
   },
   "outputs": [],
   "source": [
    "# We're going to take this all the way to a term frequency matrix\n",
    "blurb1 = \"\"\"Here is a sample text. Hello. Is there anybody out there. Just nod if you \n",
    "can hear me. Is there anyone home? C'mon, now, I hear you're feeling down. I can ease your\n",
    "pain and get you on your feet again. Relax, it's just a little pin prick. That'll keep you \n",
    "going through the show. C'mon it's time to go.\"\"\"\n",
    "\n",
    "blurb2 = \"\"\"When we grew up and went to school, there were certain teachers who would hurt\n",
    "the children any way they could. By pouring their derision upon everything we did, exposing\n",
    "every weakness, however carefully hidden by the kids. But it was known when they got home at\n",
    "night their fat and psychopathic wives would thrash them within inches of their lives.\n",
    "We don't need no education. We don't need no thought control. No dark sarcasm\n",
    "the classroom. Teacher leave them kids alone.\n",
    "\"\"\"\n",
    "blurb3 = \"\"\"The itsy-bitsy spider went up the waterspout. Down came the rain and washed\n",
    "the spider out. Out came the sun and dried up all the rain, and the itsy-bitsy spider went\n",
    "up the spout again.\n",
    "\"\"\"\n",
    "blurbs = [blurb1, blurb2, blurb3]"
   ]
  },
  {
   "cell_type": "code",
   "execution_count": 244,
   "metadata": {},
   "outputs": [
    {
     "data": {
      "text/plain": [
       "Pipeline(steps=[('cleanText', <loseit_nlp.CleanTextTransformer object at 0x128871e90>), ('vectorizer', CountVectorizer(analyzer=u'word', binary=False, decode_error=u'strict',\n",
       "        dtype=<type 'numpy.int64'>, encoding=u'utf-8', input=u'content',\n",
       "        lowercase=True, max_df=1.0, max_features=None, min_df...n=u'(?u)\\\\b\\\\w\\\\w+\\\\b',\n",
       "        tokenizer=<function tokenizeText at 0x11ad12de8>, vocabulary=None))])"
      ]
     },
     "execution_count": 244,
     "metadata": {},
     "output_type": "execute_result"
    }
   ],
   "source": [
    "pipe.fit(samp_post)"
   ]
  },
  {
   "cell_type": "code",
   "execution_count": 276,
   "metadata": {
    "collapsed": true
   },
   "outputs": [],
   "source": [
    "M = pipe.transform(samp_post).todense().T"
   ]
  },
  {
   "cell_type": "code",
   "execution_count": 300,
   "metadata": {},
   "outputs": [
    {
     "data": {
      "text/plain": [
       "u\"here is a sample text. hello. is there anybody out there. just nod if you  can hear me. is there anyone home? c'mon, now, i hear you're feeling down. i can ease your pain and get you on your feet again. relax, it's just a little pin prick. that will keep you  going through the show. c'mon it's time to go.\""
      ]
     },
     "execution_count": 300,
     "metadata": {},
     "output_type": "execute_result"
    }
   ],
   "source": [
    "# First, clean it...\n",
    "blurb_clean = cleanText(blurb).decode('utf-8')\n",
    "blurb_clean"
   ]
  },
  {
   "cell_type": "code",
   "execution_count": 301,
   "metadata": {
    "collapsed": true
   },
   "outputs": [],
   "source": [
    "# now, tokenize...\n",
    "blurb_bows = tokenizeText(blurb_clean)\n",
    "blurb_bows"
   ]
  },
  {
   "cell_type": "code",
   "execution_count": 445,
   "metadata": {},
   "outputs": [
    {
     "data": {
      "text/plain": [
       "CountVectorizer(analyzer=u'word', binary=False, decode_error=u'strict',\n",
       "        dtype=<type 'numpy.int64'>, encoding=u'utf-8', input=u'content',\n",
       "        lowercase=True, max_df=1.0, max_features=None, min_df=1,\n",
       "        ngram_range=(1, 1), preprocessor=None, stop_words=None,\n",
       "        strip_accents=None, token_pattern=u'(?u)\\\\b\\\\w\\\\w+\\\\b',\n",
       "        tokenizer=<function tokenizeText at 0x11ad12938>, vocabulary=None)"
      ]
     },
     "execution_count": 445,
     "metadata": {},
     "output_type": "execute_result"
    }
   ],
   "source": [
    "# now, from there to a term frequency matrix, right? \n",
    "# Do we use CountVectorizer? That takes in a series of texts, correct? Here, I only have one.\n",
    "veczr = CountVectorizer(tokenizer=tokenizeText)\n",
    "veczr.fit(blurbs)"
   ]
  },
  {
   "cell_type": "code",
   "execution_count": 446,
   "metadata": {
    "collapsed": true
   },
   "outputs": [
    {
     "data": {
      "text/plain": [
       "{u'?': 0,\n",
       " u'anybody': 1,\n",
       " u'bitsy': 2,\n",
       " u\"c'mon\": 3,\n",
       " u'carefully': 4,\n",
       " u'certain': 5,\n",
       " u'child': 6,\n",
       " u'classroom': 7,\n",
       " u'come': 8,\n",
       " u'control': 9,\n",
       " u'dark': 10,\n",
       " u'derision': 11,\n",
       " u'dry': 12,\n",
       " u'ease': 13,\n",
       " u'education': 14,\n",
       " u'expose': 15,\n",
       " u'fat': 16,\n",
       " u'feel': 17,\n",
       " u'foot': 18,\n",
       " u'grow': 19,\n",
       " u'hear': 20,\n",
       " u'hello': 21,\n",
       " u'hide': 22,\n",
       " u'home': 23,\n",
       " u'hurt': 24,\n",
       " u'inch': 25,\n",
       " u'itsy': 26,\n",
       " u'kid': 27,\n",
       " u'know': 28,\n",
       " u'leave': 29,\n",
       " u'life': 30,\n",
       " u'little': 31,\n",
       " u'need': 32,\n",
       " u'night': 33,\n",
       " u'nod': 34,\n",
       " u'pain': 35,\n",
       " u'pin': 36,\n",
       " u'pour': 37,\n",
       " u'prick': 38,\n",
       " u'psychopathic': 39,\n",
       " u'rain': 40,\n",
       " u'relax': 41,\n",
       " u'sample': 42,\n",
       " u'sarcasm': 43,\n",
       " u'school': 44,\n",
       " u'spider': 45,\n",
       " u'spout': 46,\n",
       " u'sun': 47,\n",
       " u'teacher': 48,\n",
       " u'text': 49,\n",
       " u'thought': 50,\n",
       " u'thrash': 51,\n",
       " u'time': 52,\n",
       " u'wash': 53,\n",
       " u'waterspout': 54,\n",
       " u'way': 55,\n",
       " u'weakness': 56,\n",
       " u'wife': 57}"
      ]
     },
     "execution_count": 446,
     "metadata": {},
     "output_type": "execute_result"
    }
   ],
   "source": [
    "# how do I see the vocabulary?\n",
    "veczr.vocabulary_"
   ]
  },
  {
   "cell_type": "code",
   "execution_count": 447,
   "metadata": {},
   "outputs": [
    {
     "data": {
      "text/plain": [
       "matrix([[1, 1, 0, 2, 0, 0, 0, 0, 0, 0, 0, 0, 0, 1, 0, 0, 0, 1, 1, 0, 2, 1,\n",
       "         0, 1, 0, 0, 0, 0, 0, 0, 0, 1, 0, 0, 1, 1, 1, 0, 1, 0, 0, 1, 1, 0,\n",
       "         0, 0, 0, 0, 0, 1, 0, 0, 1, 0, 0, 0, 0, 0],\n",
       "        [0, 0, 0, 0, 1, 1, 1, 1, 0, 1, 1, 1, 0, 0, 1, 1, 1, 0, 0, 1, 0, 0,\n",
       "         1, 1, 1, 1, 0, 2, 1, 1, 1, 0, 2, 1, 0, 0, 0, 1, 0, 1, 0, 0, 0, 1,\n",
       "         1, 0, 0, 0, 2, 0, 1, 1, 0, 0, 0, 1, 1, 1],\n",
       "        [0, 0, 2, 0, 0, 0, 0, 0, 2, 0, 0, 0, 1, 0, 0, 0, 0, 0, 0, 0, 0, 0,\n",
       "         0, 0, 0, 0, 2, 0, 0, 0, 0, 0, 0, 0, 0, 0, 0, 0, 0, 0, 2, 0, 0, 0,\n",
       "         0, 3, 1, 1, 0, 0, 0, 0, 0, 1, 1, 0, 0, 0]])"
      ]
     },
     "execution_count": 447,
     "metadata": {},
     "output_type": "execute_result"
    }
   ],
   "source": [
    "# how do I get the countvector?\n",
    "M = veczr.transform(blurbs).todense()\n",
    "M"
   ]
  },
  {
   "cell_type": "code",
   "execution_count": 448,
   "metadata": {
    "collapsed": true
   },
   "outputs": [],
   "source": [
    "# or can we just skip all that an go straight to the TfidfVectorizer?\n",
    "tfidfer = TfidfVectorizer(tokenizer=tokenizeText, \n",
    "                          min_df=0.3, \n",
    "                          stop_words=STOPLIST,\n",
    "                          decode_error='ignore',\n",
    "                          norm=None)"
   ]
  },
  {
   "cell_type": "code",
   "execution_count": 449,
   "metadata": {
    "collapsed": true
   },
   "outputs": [],
   "source": [
    "# can skip this step with fit_transform method, but here we can examine the vocab\n",
    "# with fitz.vocabulary_ \n",
    "fitz = tfidfer.fit(blurbs)"
   ]
  },
  {
   "cell_type": "code",
   "execution_count": 450,
   "metadata": {
    "collapsed": true
   },
   "outputs": [],
   "source": [
    "M = np.array(fitz.transform(blurbs).todense())"
   ]
  },
  {
   "cell_type": "code",
   "execution_count": 451,
   "metadata": {},
   "outputs": [
    {
     "data": {
      "text/plain": [
       "array([[ 1.69314718,  1.69314718,  0.        ,  3.38629436,  0.        ,\n",
       "         0.        ,  0.        ,  0.        ,  0.        ,  0.        ,\n",
       "         0.        ,  0.        ,  0.        ,  1.69314718,  0.        ,\n",
       "         0.        ,  0.        ,  1.69314718,  1.69314718,  0.        ,\n",
       "         3.38629436,  1.69314718,  0.        ,  1.28768207,  0.        ,\n",
       "         0.        ,  0.        ,  0.        ,  0.        ,  0.        ,\n",
       "         0.        ,  1.69314718,  0.        ,  0.        ,  1.69314718,\n",
       "         1.69314718,  1.69314718,  0.        ,  1.69314718,  0.        ,\n",
       "         0.        ,  1.69314718,  1.69314718,  0.        ,  0.        ,\n",
       "         0.        ,  0.        ,  0.        ,  0.        ,  1.69314718,\n",
       "         0.        ,  0.        ,  1.69314718,  0.        ,  0.        ,\n",
       "         0.        ,  0.        ,  0.        ],\n",
       "       [ 0.        ,  0.        ,  0.        ,  0.        ,  1.69314718,\n",
       "         1.69314718,  1.69314718,  1.69314718,  0.        ,  1.69314718,\n",
       "         1.69314718,  1.69314718,  0.        ,  0.        ,  1.69314718,\n",
       "         1.69314718,  1.69314718,  0.        ,  0.        ,  1.69314718,\n",
       "         0.        ,  0.        ,  1.69314718,  1.28768207,  1.69314718,\n",
       "         1.69314718,  0.        ,  3.38629436,  1.69314718,  1.69314718,\n",
       "         1.69314718,  0.        ,  3.38629436,  1.69314718,  0.        ,\n",
       "         0.        ,  0.        ,  1.69314718,  0.        ,  1.69314718,\n",
       "         0.        ,  0.        ,  0.        ,  1.69314718,  1.69314718,\n",
       "         0.        ,  0.        ,  0.        ,  3.38629436,  0.        ,\n",
       "         1.69314718,  1.69314718,  0.        ,  0.        ,  0.        ,\n",
       "         1.69314718,  1.69314718,  1.69314718],\n",
       "       [ 0.        ,  0.        ,  3.38629436,  0.        ,  0.        ,\n",
       "         0.        ,  0.        ,  0.        ,  3.38629436,  0.        ,\n",
       "         0.        ,  0.        ,  1.69314718,  0.        ,  0.        ,\n",
       "         0.        ,  0.        ,  0.        ,  0.        ,  0.        ,\n",
       "         0.        ,  0.        ,  0.        ,  0.        ,  0.        ,\n",
       "         0.        ,  3.38629436,  0.        ,  0.        ,  0.        ,\n",
       "         0.        ,  0.        ,  0.        ,  0.        ,  0.        ,\n",
       "         0.        ,  0.        ,  0.        ,  0.        ,  0.        ,\n",
       "         3.38629436,  0.        ,  0.        ,  0.        ,  0.        ,\n",
       "         5.07944154,  1.69314718,  1.69314718,  0.        ,  0.        ,\n",
       "         0.        ,  0.        ,  0.        ,  1.69314718,  1.69314718,\n",
       "         0.        ,  0.        ,  0.        ]])"
      ]
     },
     "execution_count": 451,
     "metadata": {},
     "output_type": "execute_result"
    }
   ],
   "source": [
    "# and here is our tfidf matrix!!\n",
    "M"
   ]
  },
  {
   "cell_type": "code",
   "execution_count": 457,
   "metadata": {},
   "outputs": [
    {
     "name": "stdout",
     "output_type": "stream",
     "text": [
      "Vector norm of blurb_1: 8.2215153558\n",
      "Vector norm of blurb_2: 10.6518201612\n",
      "Vector norm of blurb_3: 9.27374903969\n"
     ]
    }
   ],
   "source": [
    "# Just verify that these documents, though normed, have different vectors (unit vectors)\n",
    "# Shit! I had to non-normalize the vectorizer to get this to work.\n",
    "for i, row in enumerate(M):\n",
    "    print \"Vector norm of blurb_{}: {}\".format(i+1, np.linalg.norm(M[i]))"
   ]
  },
  {
   "cell_type": "code",
   "execution_count": 460,
   "metadata": {},
   "outputs": [
    {
     "data": {
      "text/plain": [
       "array([[  67.59331475,    1.65812512,    0.        ],\n",
       "       [   1.65812512,  113.46127275,    0.        ],\n",
       "       [   0.        ,    0.        ,   86.00242125]])"
      ]
     },
     "execution_count": 460,
     "metadata": {},
     "output_type": "execute_result"
    }
   ],
   "source": [
    "# Okay, here's the numerator of the cos-sim formula\n",
    "cos_numerator = M.dot(M.T)\n",
    "cos_numerator"
   ]
  },
  {
   "cell_type": "code",
   "execution_count": 492,
   "metadata": {
    "collapsed": true
   },
   "outputs": [],
   "source": [
    "# How do I get the denominator\n",
    "denom = np.linalg.norm(M, axis=1)*np.linalg.norm(M.T, axis=0)"
   ]
  },
  {
   "cell_type": "code",
   "execution_count": 493,
   "metadata": {},
   "outputs": [
    {
     "data": {
      "text/plain": [
       "array([  67.59331475,  113.46127275,   86.00242125])"
      ]
     },
     "execution_count": 493,
     "metadata": {},
     "output_type": "execute_result"
    }
   ],
   "source": [
    "denom"
   ]
  },
  {
   "cell_type": "code",
   "execution_count": 488,
   "metadata": {
    "collapsed": true
   },
   "outputs": [],
   "source": [
    "from itertools import permutations"
   ]
  },
  {
   "cell_type": "code",
   "execution_count": 491,
   "metadata": {},
   "outputs": [
    {
     "name": "stdout",
     "output_type": "stream",
     "text": [
      "(8.2215153557960257, 10.651820161183689)\n",
      "(8.2215153557960257, 9.2737490396895446)\n",
      "(10.651820161183689, 8.2215153557960257)\n",
      "(10.651820161183689, 9.2737490396895446)\n",
      "(9.2737490396895446, 8.2215153557960257)\n",
      "(9.2737490396895446, 10.651820161183689)\n"
     ]
    }
   ],
   "source": [
    "for t in permutations(g, 2):\n",
    "    print t"
   ]
  },
  {
   "cell_type": "code",
   "execution_count": 479,
   "metadata": {},
   "outputs": [
    {
     "data": {
      "text/plain": [
       "array([[ 1.        ,  0.01461402,  0.        ],\n",
       "       [ 0.0245309 ,  1.        ,  0.        ],\n",
       "       [ 0.        ,  0.        ,  1.        ]])"
      ]
     },
     "execution_count": 479,
     "metadata": {},
     "output_type": "execute_result"
    }
   ],
   "source": [
    "# Our cosin similarity matrix!!! Am I going to need it?\n",
    "cos_numerator / denom"
   ]
  },
  {
   "cell_type": "code",
   "execution_count": 454,
   "metadata": {
    "collapsed": true
   },
   "outputs": [],
   "source": [
    "fac = np.array([[2,2,5], [1,12,7]])"
   ]
  },
  {
   "cell_type": "code",
   "execution_count": 455,
   "metadata": {},
   "outputs": [
    {
     "data": {
      "text/plain": [
       "array([[  4,   4,  25],\n",
       "       [  1, 144,  49]])"
      ]
     },
     "execution_count": 455,
     "metadata": {},
     "output_type": "execute_result"
    }
   ],
   "source": [
    "fac*fac"
   ]
  },
  {
   "cell_type": "code",
   "execution_count": 418,
   "metadata": {},
   "outputs": [
    {
     "data": {
      "text/plain": [
       "array([[ 0.34815531,  0.34815531,  0.87038828],\n",
       "       [ 0.07179582,  0.86154979,  0.50257071]])"
      ]
     },
     "execution_count": 418,
     "metadata": {},
     "output_type": "execute_result"
    }
   ],
   "source": [
    "rows = fac.shape[0]\n",
    "fac / np.sqrt((fac*fac).sum(axis=1)).reshape(rows, 1)"
   ]
  },
  {
   "cell_type": "code",
   "execution_count": 439,
   "metadata": {},
   "outputs": [
    {
     "data": {
      "text/plain": [
       "((2, 48), (2, 3))"
      ]
     },
     "execution_count": 439,
     "metadata": {},
     "output_type": "execute_result"
    }
   ],
   "source": [
    "M.shape, fac.shape"
   ]
  },
  {
   "cell_type": "code",
   "execution_count": 440,
   "metadata": {},
   "outputs": [
    {
     "data": {
      "text/plain": [
       "array([ 46.43263991,  78.03795463])"
      ]
     },
     "execution_count": 440,
     "metadata": {},
     "output_type": "execute_result"
    }
   ],
   "source": [
    "(M*M).sum(axis=1)"
   ]
  },
  {
   "cell_type": "code",
   "execution_count": 441,
   "metadata": {
    "collapsed": true
   },
   "outputs": [],
   "source": [
    "# next, Mike wants us to normalize this matrix...\n",
    "rows = M.shape[0]\n",
    "cols = M.shape[1]\n",
    "M_normed = M / np.sqrt((M*M).sum(axis=1)).reshape(rows, 1)"
   ]
  },
  {
   "cell_type": "code",
   "execution_count": 442,
   "metadata": {},
   "outputs": [
    {
     "data": {
      "text/plain": [
       "array([[ 0.20625685,  0.20625685,  0.4125137 ,  0.        ,  0.        ,\n",
       "         0.        ,  0.        ,  0.        ,  0.        ,  0.        ,\n",
       "         0.20625685,  0.        ,  0.        ,  0.        ,  0.20625685,\n",
       "         0.20625685,  0.        ,  0.4125137 ,  0.20625685,  0.        ,\n",
       "         0.14675345,  0.        ,  0.        ,  0.        ,  0.        ,\n",
       "         0.        ,  0.        ,  0.20625685,  0.        ,  0.        ,\n",
       "         0.20625685,  0.20625685,  0.20625685,  0.        ,  0.20625685,\n",
       "         0.        ,  0.20625685,  0.20625685,  0.        ,  0.        ,\n",
       "         0.        ,  0.20625685,  0.        ,  0.        ,  0.20625685,\n",
       "         0.        ,  0.        ,  0.        ],\n",
       "       [ 0.        ,  0.        ,  0.        ,  0.15909888,  0.15909888,\n",
       "         0.15909888,  0.15909888,  0.15909888,  0.15909888,  0.15909888,\n",
       "         0.        ,  0.15909888,  0.15909888,  0.15909888,  0.        ,\n",
       "         0.        ,  0.15909888,  0.        ,  0.        ,  0.15909888,\n",
       "         0.11320017,  0.15909888,  0.15909888,  0.31819777,  0.15909888,\n",
       "         0.15909888,  0.15909888,  0.        ,  0.31819777,  0.15909888,\n",
       "         0.        ,  0.        ,  0.        ,  0.15909888,  0.        ,\n",
       "         0.15909888,  0.        ,  0.        ,  0.15909888,  0.15909888,\n",
       "         0.31819777,  0.        ,  0.15909888,  0.15909888,  0.        ,\n",
       "         0.15909888,  0.15909888,  0.15909888]])"
      ]
     },
     "execution_count": 442,
     "metadata": {},
     "output_type": "execute_result"
    }
   ],
   "source": [
    "M_normed"
   ]
  },
  {
   "cell_type": "code",
   "execution_count": 443,
   "metadata": {},
   "outputs": [
    {
     "data": {
      "text/plain": [
       "array([[ 1.        ,  0.01661251],\n",
       "       [ 0.01661251,  1.        ]])"
      ]
     },
     "execution_count": 443,
     "metadata": {},
     "output_type": "execute_result"
    }
   ],
   "source": [
    "M_normed.dot(M_normed.T)"
   ]
  },
  {
   "cell_type": "code",
   "execution_count": null,
   "metadata": {
    "collapsed": true
   },
   "outputs": [],
   "source": [
    "\n",
    "\n",
    "# following this tutorial: https://spacy.io/docs/usage/language-processing-pipeline\n",
    "nlp = spacy.load('en')"
   ]
  },
  {
   "cell_type": "code",
   "execution_count": 109,
   "metadata": {
    "collapsed": true
   },
   "outputs": [],
   "source": [
    "bows = [nlp.tokenizer(post[1]) for post in wagon_thread] # A lst of spaCy docs"
   ]
  },
  {
   "cell_type": "code",
   "execution_count": 110,
   "metadata": {
    "collapsed": true
   },
   "outputs": [],
   "source": [
    "bow = bows[0]"
   ]
  },
  {
   "cell_type": "code",
   "execution_count": 125,
   "metadata": {
    "collapsed": true
   },
   "outputs": [],
   "source": [
    "# This parses, tokenizes and tags the set of texts, yeilding spaCy docs\n",
    "# for each one in order\n",
    "bows2 = nlp.pipe(wagon_thread)"
   ]
  },
  {
   "cell_type": "code",
   "execution_count": 114,
   "metadata": {
    "collapsed": true
   },
   "outputs": [],
   "source": [
    "import itertools"
   ]
  },
  {
   "cell_type": "code",
   "execution_count": 126,
   "metadata": {
    "collapsed": true
   },
   "outputs": [],
   "source": [
    "postsbows = []\n",
    "for bow in bows2:\n",
    "    postsbows.append(bow)"
   ]
  },
  {
   "cell_type": "code",
   "execution_count": 144,
   "metadata": {},
   "outputs": [
    {
     "data": {
      "text/plain": [
       "I'm one of THOSE people - I get all jazzed up about losing weight and exercising, I get my plan all set in place (I love lists and charts), then when it comes to actually DOING it, after about a day, 3 days, a week, I fail. I'll have a mountain dew, I'll skip a workout, I'll order a burger instead of fish, etc.\n",
       "\n",
       " Now, failure is a part of life. These things happen. Intellectually, I understand this. Emotionally, I do not. As soon as I \"screw up\", I (figuratively) throw my hands in the air and give up on it all. Suffering from perfectionism, I see this one black mark and decide that everything is ruined, I'm a failure, I'll never achieve my goals - and therefore eat whatever I want, whenever I want, and sit on the couch, binge-watching TV on Netflix in order to escape the feelings of despair, disappointment, and helplessness that come with failure.\n",
       "\n",
       " I need advice - how do you accept failure? How do you forgive yourself when you \"screw up\"? How do you pick yourself back up and get back on the wagon?"
      ]
     },
     "execution_count": 144,
     "metadata": {},
     "output_type": "execute_result"
    }
   ],
   "source": [
    "spec_1 = postsbows[0]\n",
    "spec_1"
   ]
  },
  {
   "cell_type": "code",
   "execution_count": 147,
   "metadata": {
    "collapsed": true
   },
   "outputs": [],
   "source": [
    "tks = spec_1[125:150]"
   ]
  },
  {
   "cell_type": "code",
   "execution_count": 148,
   "metadata": {
    "collapsed": true
   },
   "outputs": [
    {
     "name": "stdout",
     "output_type": "stream",
     "text": [
      "Token: air, POS: NOUN\n",
      "Token: and, POS: CCONJ\n",
      "Token: give, POS: VERB\n",
      "Token: up, POS: PART\n",
      "Token: on, POS: ADP\n",
      "Token: it, POS: PRON\n",
      "Token: all, POS: DET\n",
      "Token: ., POS: PUNCT\n",
      "Token: Suffering, POS: VERB\n",
      "Token: from, POS: ADP\n",
      "Token: perfectionism, POS: NOUN\n",
      "Token: ,, POS: PUNCT\n",
      "Token: I, POS: PRON\n",
      "Token: see, POS: VERB\n",
      "Token: this, POS: DET\n",
      "Token: one, POS: NUM\n",
      "Token: black, POS: ADJ\n",
      "Token: mark, POS: NOUN\n",
      "Token: and, POS: CCONJ\n",
      "Token: decide, POS: VERB\n",
      "Token: that, POS: ADP\n",
      "Token: everything, POS: NOUN\n",
      "Token: is, POS: VERB\n",
      "Token: ruined, POS: VERB\n",
      "Token: ,, POS: PUNCT\n"
     ]
    }
   ],
   "source": [
    "for tk in tks:\n",
    "    print \"Token: {}, POS: {}\".format(tk.orth_, tk.pos_)"
   ]
  },
  {
   "cell_type": "code",
   "execution_count": 213,
   "metadata": {},
   "outputs": [
    {
     "data": {
      "text/plain": [
       "I'm one of THOSE people - I get all jazzed up about losing weight and exercising, I get my plan all set in place (I love lists and charts), then when it comes to actually DOING it, after about a day, 3 days, a week, I fail. I'll have a mountain dew, I'll skip a workout, I'll order a burger instead of fish, etc.\n",
       "\n",
       " Now, failure is a part of life. These things happen. Intellectually, I understand this. Emotionally, I do not. As soon as I \"screw up\", I (figuratively) throw my hands in the air and give up on it all. Suffering from perfectionism, I see this one black mark and decide that everything is ruined, I'm a failure, I'll never achieve my goals - and therefore eat whatever I want, whenever I want, and sit on the couch, binge-watching TV on Netflix in order to escape the feelings of despair, disappointment, and helplessness that come with failure.\n",
       "\n",
       " I need advice - how do you accept failure? How do you forgive yourself when you \"screw up\"? How do you pick yourself back up and get back on the wagon?"
      ]
     },
     "execution_count": 213,
     "metadata": {},
     "output_type": "execute_result"
    }
   ],
   "source": [
    "# Tokenizes a unicode text sample\n",
    "parser = English\n",
    "parsedData = parser()\n",
    "x = parsedData(specimen_1)\n",
    "x"
   ]
  },
  {
   "cell_type": "code",
   "execution_count": 78,
   "metadata": {
    "collapsed": true
   },
   "outputs": [
    {
     "name": "stdout",
     "output_type": "stream",
     "text": [
      "I: PRON\n",
      "'m: VERB\n",
      "one: NUM\n",
      "of: ADP\n",
      "THOSE: DET\n",
      "people: NOUN\n",
      "-: PUNCT\n",
      "I: PRON\n",
      "get: VERB\n",
      "all: DET\n"
     ]
    }
   ],
   "source": [
    "for i, token in enumerate(x[:10]):\n",
    "    print \"{}: {}\".format(token.orth_, token.pos_)\n"
   ]
  },
  {
   "cell_type": "code",
   "execution_count": 80,
   "metadata": {
    "collapsed": true
   },
   "outputs": [
    {
     "name": "stdout",
     "output_type": "stream",
     "text": [
      "I'm one of THOSE people - I get all jazzed up about losing weight and exercising, I get my plan all set in place (I love lists and charts), then when it comes to actually DOING it, after about a day, 3 days, a week, I fail.\n",
      "\n",
      "I'll have a mountain dew, I'll skip a workout, I'll order a burger instead of fish, etc.\n",
      "\n",
      "Now, failure is a part of life.\n",
      "\n",
      "These things happen.\n",
      "\n",
      "Intellectually, I understand this.\n",
      "\n",
      "Emotionally, I do not.\n",
      "\n",
      "As soon as I \"screw up\", I (figuratively) throw my hands in the air and give up on it all.\n",
      "\n",
      "Suffering from perfectionism, I see this one black mark and decide that everything is ruined, I'm a failure, I'll never achieve my goals - and therefore eat whatever I want, whenever I want, and sit on the couch, binge-watching TV on Netflix in order to escape the feelings of despair, disappointment, and helplessness that come with failure.\n",
      "\n",
      "I need advice - how do you accept failure?\n",
      "\n",
      "How do you forgive yourself when you \"screw up\"?\n",
      "\n",
      "How do you pick yourself back up and get back on the wagon?\n",
      "\n"
     ]
    }
   ],
   "source": [
    "sents = []\n",
    "for span in x.sents:\n",
    "    sent = ''.join(x[i].string for i in range(span.start, span.end)).strip()\n",
    "    sents.append(sent)\n",
    "    \n",
    "for sentence in sents:\n",
    "    print sentence + '\\n'"
   ]
  },
  {
   "cell_type": "code",
   "execution_count": 158,
   "metadata": {},
   "outputs": [
    {
     "data": {
      "text/plain": [
       "'!\"#$%&\\'()*+,-./:;<=>?@[\\\\]^_`{|}~'"
      ]
     },
     "execution_count": 158,
     "metadata": {},
     "output_type": "execute_result"
    }
   ],
   "source": [
    "punc = string.punctuation\n",
    "punc"
   ]
  },
  {
   "cell_type": "code",
   "execution_count": 160,
   "metadata": {},
   "outputs": [
    {
     "data": {
      "text/plain": [
       "'!\"#$%&\\'()*+,-./:;<=>?@[\\\\]^_`{|}~'"
      ]
     },
     "execution_count": 160,
     "metadata": {},
     "output_type": "execute_result"
    }
   ],
   "source": [
    "punc.split(' ').pop(0)"
   ]
  },
  {
   "cell_type": "code",
   "execution_count": 165,
   "metadata": {},
   "outputs": [
    {
     "data": {
      "text/plain": [
       "('36492-1',\n",
       " 36492,\n",
       " 'Accepting Failure - Falling Off the Band Wagon',\n",
       " 'Rachael',\n",
       " 11875157,\n",
       " '06/17/2014',\n",
       " 'I\\'m one of THOSE people - I get all jazzed up about losing weight and exercising, I get my plan all set in place (I love lists and charts), then when it comes to actually DOING it, after about a day, 3 days, a week, I fail. I\\'ll have a mountain dew, I\\'ll skip a workout, I\\'ll order a burger instead of fish, etc.\\n\\n Now, failure is a part of life. These things happen. Intellectually, I understand this. Emotionally, I do not. As soon as I \"screw up\", I (figuratively) throw my hands in the air and give up on it all. Suffering from perfectionism, I see this one black mark and decide that everything is ruined, I\\'m a failure, I\\'ll never achieve my goals - and therefore eat whatever I want, whenever I want, and sit on the couch, binge-watching TV on Netflix in order to escape the feelings of despair, disappointment, and helplessness that come with failure.\\n\\n I need advice - how do you accept failure? How do you forgive yourself when you \"screw up\"? How do you pick yourself back up and get back on the wagon?',\n",
       " 'The Kitchen Sink',\n",
       " 'https://forums.loseit.com/posts/list/36492.page')"
      ]
     },
     "execution_count": 165,
     "metadata": {},
     "output_type": "execute_result"
    }
   ],
   "source": [
    "samples[0]"
   ]
  },
  {
   "cell_type": "code",
   "execution_count": 15,
   "metadata": {
    "collapsed": true
   },
   "outputs": [
    {
     "name": "stdout",
     "output_type": "stream",
     "text": [
      "Sample Text: 1\n",
      "I'm one of THOSE people - I get all jazzed up about losing weight and exercising, I get my plan all set in place (I love lists and charts), then when it comes to actually DOING it, after about a day, 3 days, a week, I fail. I'll have a mountain dew, I'll skip a workout, I'll order a burger instead of fish, etc.\n",
      "\n",
      " Now, failure is a part of life. These things happen. Intellectually, I understand this. Emotionally, I do not. As soon as I \"screw up\", I (figuratively) throw my hands in the air and give up on it all. Suffering from perfectionism, I see this one black mark and decide that everything is ruined, I'm a failure, I'll never achieve my goals - and therefore eat whatever I want, whenever I want, and sit on the couch, binge-watching TV on Netflix in order to escape the feelings of despair, disappointment, and helplessness that come with failure.\n",
      "\n",
      " I need advice - how do you accept failure? How do you forgive yourself when you \"screw up\"? How do you pick yourself back up and get back on the wagon?\n",
      "\n",
      "\n",
      "Sample Text: 2\n",
      "Well first, stop seeing it as failure.  The only failure is giving up. \n",
      "\n",
      " One meal, one day, cannot derail your plan. Only giving in to the f*#k-its can. I have a mountain dew every day. I often have burgers. But you work things into your budget. You live your life. You eat less, move more. You don't have to change EVERYTHING. You don't have to change ANYTHING until you're ready except the quantity you eat \n",
      "\n",
      " Make sure your budget is reasonable enough that you're not forced to starve/suffer. That kind of diet sets you up to fail because you crave, hunger, feel deprived, etc. You don't have to live that way.\n",
      "\n",
      " Every meal is a new chance to do things better.  You've never screwed up so bad that giving in is better than going forward. So what if you did badly today? It's a day you won't lose weight maybe. But giving in is a guarantee you won't lose, and probably will gain.\n",
      "\n",
      "\n",
      "Sample Text: 3\n",
      "If all of the things you mentioned were failures I've been failing consistently every week for 3 years  Somehow, however, in spite of my consistent failures I lost weight and have maintained a very healthy body weight and high level of fitness for for 2+ years.\n",
      "\n",
      " You need to adjust your expectations and realize that you don't have to be perfect to succeed at weight loss. In fact, you just have to be good on average such that your bad days outnumber your good days. A single hamburger or soda can't offset several days of staying on budget.\n",
      "\n",
      "\n",
      "Sample Text: 4\n",
      "I was thin my whole life, and when I started to gain weight I didn’t really notice.\n",
      "\n",
      " Then one April day about 4 years ago, I really saw myself in the mirror and I was disgusted.  I put on shorts and a camisole and took a bunch of “before” pictures.  I weighed about 145, and I was determined to lose 15 pounds before I went on vacation.  I knew* (*according to womens magazines) that 2 pounds per week was a safe and reasonable amount of weight to lose, and I vowed to do it.\n",
      "\n",
      " Except I didn’t really make any changes to my lifestyle.  I told myself I was going to work out, but I always had an excuse not to.  I said I was going to cut off my sweet tooth, but there was always something really yummy in the break room at work.  Etc.  Week by week, I didn’t lose weight, until it was clear I wouldn’t make my goal and I gave up.  “I’ll try again next year”.\n",
      "\n",
      " Then, in January of 2012, I found LoseIt.  I weighed myself for the first time in over a year, and was shocked to learn I was up to 160!  So then I plugged in my stats, just for fun, and saw how few calories I could really eat if I wanted to lose weight.  I logged my food, again, just for fun.  I didn’t have a goal date in mind, I was just experimenting.  I was undereating by a fair bit, but I was also seeing the scale go down.  It was fun, and encouraged me to keep going.\n",
      "\n",
      " After a while I found the forums and learned that 2 pounds a week was ridiculous for me.  I revised my plan, and instead of worrying about the goal, I just concentrated on eating my daily calories.  Some weeks the weight came off; some weeks it didn’t.  But overall, the trend was going down, which is so much better than it going up!\n",
      "\n",
      " It took me just over 6 months to lose over 30 pounds, and I’ve been maintaining for nearly 2 years.\n",
      "\n",
      " The ‘trick’, for me?  Stop worrying about the date.  Set a realistic goal so that you aren’t depriving yourself.  Then eat your budget.  Move more.  If you have a bad day, accept it and move on.  If you have a good day, use it as encouragement to fuel your progress.  \n",
      "\n",
      " The weight might creep off, but if it creeps off as a natural part of your lifestyle, then eventually, one day, you will find yourself at goal and you might not even notice the journey that brought you there.\n",
      "\n",
      " Good luck.\n",
      "\n",
      "\n",
      "Sample Text: 5\n",
      "I think it has to do with how you view your weight loss attempt.  If you are treating this like a project with a start date, end date, and series of milestones, then it would be easy to consider a burger or missed workout as a failure.  If you view this as a basic change in your lifestyle and consider that weight loss will occur over the long term due to generally improved eating and exercise habits, then a burger or missed workout is much less significant. \n",
      "\n",
      " Perfection isn't necessary.  Generally eat healthy and in moderate amounts, and get in the habit of exercising.  Some days you may not fell like exercising.  Missing a day or two of exercise is no big deal in the long run.  Sometimes you may feel like eating a burger.  There’s nothing wrong with an occasional burger as long as you generally have healthy eating habits.\n",
      "\n",
      " I occasionally eat a pizza and ice cream, but I’ve improved my daily eating habits so much that I don’t view this as screwing up.  I don’t want to deprive myself of food that I really enjoy, but I do limit the frequency and amount I eat.  In the big scheme of things, I’m still able to improve my overall health (weight loss, fat loss, more lean muscle, lower blood pressure, lower cholesterol) while I occasionally enjoy something that’s less healthy.\n",
      "\n",
      " Lose It is a good tool to help you develop better habits for the long run.\n",
      "\n",
      "\n",
      "Sample Text: 6\n",
      "Advice so far is spot on.\n",
      "\n",
      " Your weight loss method must be something sustainable. If you're not willing to give up burgers or mountain dew completely forever, don't try to give them up now. If you don't like whatever workout routine you're doing now, find something you're actually going to do for the rest of your life. (They say the best exercise is the one you will actually do!)\n",
      "\n",
      " If you want a burger or a cup of soda, plan for it and enjoy it. Don't deprive yourself, and never feel guilty about food.\n",
      "\n",
      " This is a lifestyle change, not a diet. It's hopefully permanent, because it doesn't end when you reach your goal weight- maintenance is a journey as well! Focus on developing healthy eating and exercise habits to last a lifetime.\n",
      "\n",
      "\n",
      " Hitting the other point, when you actually did really mess up the plan, don't think of it as a failure! When I get discouraged by a bad day, I just do some math- I'm on the 1 pound per week plan, so my daily budget is 500 calories less than my maintenance budget. In order to gain one measly pound in a week, I would have to go over my budget by literally a thousand calories all seven days of the week, or alternatively, overeat by 7,000 calories in a single day. Come on, I don't know a single burger that has 7,000 calories  It just helps to put everything in perspective a bit when you're feeling like this is too hard.\n",
      "\n",
      " Don't let \"perfect\" be the enemy of \"good\"... do all you can to stay on track, but don't beat yourself up if you stray here and there. Good luck!\n",
      "\n",
      "\n",
      "Sample Text: 7\n",
      "Despite my rather long-winded response above, I forgot to include this very key point.\n",
      "\n",
      " Moderator Barb often uses the quote, \"Start as you mean to go on\".  In my case, that meant adjusting my diet so that I didn't ever HAVE to work out.  Once I eliminated the majority of the crap (majority - not all!) then it was pretty easy to stay within my base budget, so I didn't NEED the exercise calories.  Sure, I tried to be generally more active, but I viewed that as a bonus, not a requirement.  My main exercise has been walking; I enjoy it, and it is something I plan on doing for the rest of my life.\n",
      "\n",
      "\n",
      "Sample Text: 8\n",
      "I often feel the way you do about a lot of things, but ironically upon truly understanding the concepts behind Lose It (maybe after using it regularly for a few months and reading posts on the forum), I rarely feel like I've failed in weight lose. Even when I gain weight. Give this program a good faith effort and stick to it for a bit and I bet you can feel the same way (I know easier said than done).\n",
      "\n",
      " One misconception that I think many of us with extra weight have is that skinny/healthy people are always at a perfect weight and never fluctuate. We don't realize that at times they gain pounds and either consciously or subconsciously they lose the weight again, so that the gain doesn't become a long-term trend. \n",
      "\n",
      " I guess a few other pointers:\n",
      " 1) Set a reasonable rate of loss and plod along.\n",
      " 2) Don't think about a date you'll reach a goal weight. My guess is 95% of people never hit it\n",
      " 3)Be willing to take a break. Studies have shown that many people can't sustain weight loss for a period of more than 6 months. So accept that you might hang out at a weight for a while before getting back to it. \n",
      " 4) Maintaining at a lower weight than you started, even if it isn't your goal weight, is just as much a success (maybe even more) than losing weight. The only failure is to go back to a trend of continually gaining weight. And this failure can quickly be overcome if you get back to following the Lose It program.\n",
      "\n",
      "\n",
      "Sample Text: 9\n",
      "I think this highlights one of the points I personally learned. If you're doing the right thing even 5 days out of 7, it's pretty hard to blow it all on a bad day or two. So you might not have done well on one day, but it hasn't actually ruined positive progress.\n",
      "\n",
      "\n",
      "Sample Text: 10\n",
      "Two common themes that I've noticed of all the more successful people on Loseit that have lost weight and sustained it - they log religiously OR have a very defined diet that they've adapted AFTER logging religiously for a very long time and now can estimate it within a few hundred calories every day.  The other thing they do is not log BS exercises so they can rationalize overeating.  Those that come on here and fail tend to log everything from vacuuming to cooking as calories burned.  Log only exercises where you change shoes and burn a lot of calories.\n",
      "\n",
      " Just do those two things.  I've been over my calories 4 weeks in a row and still lost five pounds (because I have my calories set pretty low and I tend to underestimate my calorie burns).  \n",
      "\n",
      " Just log everyday and own what you do.  That's the very first step and don't list everything you do as exercise and you'll succeed.  And if you don't lose, at least you'll know why and then adapt your behavior enough to be successful.   \n",
      "\n",
      " Be honest with yourself too -- are your quitting habits because you \"weren't perfect\" or because you were giving yourself a way out?   I would guess that you were really looking for a way out and used not being perfect as an excuse.  Don't look for excuses to quit. Log your bad days and forgive yourself.  You'll be amazed at how you adapt when you make yourself log everything carefully.\n",
      "\n",
      "\n",
      "Sample Text: 11\n",
      "Everyone is spot-on for you, Rachael!  And I both get and share your sentiments of perfectionist mentality, I really do. But really, a big key is to not think of it as 'failure' in the first place.  We all trip up everywhere in life, but is every little trip-up truly a failure?  NOPE!  If every single time in life you had a trip-up you decided all was lost, threw your hands up and walked away, you would have never made it through school and never held down a job for longer than a week.  In school or work, if we make mistakes we find a way to correct them, dust off and move forward the next day with a fresh start, and learn from the mistake to help avoid it better later on.  We can't go back, we can only go forward.  Apply that to the other parts of your life as well!\n",
      "\n",
      "\n",
      "Sample Text: 12\n",
      "You seem to have a low threshold for failure, and I mean that in the nicest possible way. I think you hit it when you said it's about perfectionism -- and this is a totally unfair, totally unrealistic standard to set for yourself. If it isn't a complete, 100%, unadulterated success, then it must be a failure. Life is not pass/fail; success is a continuum.\n",
      "\n",
      " I've used this analogy many times, but it seems worth repeating. Say you reach into the fridge and open a fresh dozen eggs, and remove one egg. Oops -- you drop it on the floor. Do you then take out the entire box of eggs, and dump them too? No? Then start treating your life like those other 11 eggs.\n",
      "\n",
      " A wise person once said we get 99% of our success by what we do 80% of the time. This is also true. It's not about perfection -- it's about general consistency over time. One bad choice, one bad meal, one bad day, week, month, of even year, does not mean you can never pick up and get back to consistency. \n",
      "\n",
      " And when you do have an occasional indulgence? Don't cast it automatically as a failure. Life happens. Log it, own it, learn from it, and most importantly, MOVE ON. \n",
      "\n",
      " Another quote I'd like to share is from one of my childhood favorites, ANNE OF GREEN GABLES: \"Tomorrow is a new day with no mistakes in it.\"\n",
      "\n",
      "\n",
      "Sample Text: 13\n",
      "Hear hear! One of my favorite Barb-isms!\n",
      "\n",
      "\n",
      "Sample Text: 14\n",
      "This!!! \n",
      "\n",
      " I have lost 100 pounds with Lose It over nearly two years. I have been successful because I eat burgers, dessert, drink soda, go over budget once in a while and then move on. I vowed to myself 100 pounds ago I would not do anything diet-wise that I couldn't sustain. That's why calorie counting works for me. Flexibility is necessary, and nothing is completely off limits.\n",
      "\n",
      " I also refuse to let a \"failure\" be an excuse to just say \"f*ck it\" and fall off completely. There's nothing wrong with an indulgence or a red day, but you have to move on and keep on kepin' on. It all evens out in the end. \n",
      "\n",
      " Also, the advice so far in this thread is spot on. You should sticky it.\n",
      "\n",
      "\n",
      "Sample Text: 15\n",
      "Here is some very practical advice.\n",
      "\n",
      " 1) Do NOT make lists of things you are going to do\n",
      "\n",
      " 2) Make, instead, marks on the calendar of things that you HAVE DONE!\n",
      "\n",
      " Realize that change, real change does not happen overnight.  Real behavior modification takes time.  Seriously!\n",
      "\n",
      " My practical suggestion:   Take one or two items that you wish to improve your performance on.   eg) staying on budget on lose it (make sure your budget is reasonable - 1 pound per week setting, or .5 pound per week setting.  I actually suggest the .5 per week setting, since you have been having difficulty.\n",
      "\n",
      " Number 2 can be a 10 minute walk each day.  Not a work out, just 10 minute walk.\n",
      "\n",
      " Do NOT make a list of doing these things!\n",
      "\n",
      " Instead.  Make a mark on the calendar when you stay on budget that day.   Make a different mark on the calendar when you take a 10 minute walk.\n",
      "\n",
      " Keep track for a month.  Then, count up the number of days that you executed those things.  Next month, no matter what those numbers are, work at improving your performance.\n",
      "\n",
      " Bettering Performance is about PERSISTANCE, not perfection.  Habits are formed by REPETITION.  This does not happen over-night.  \n",
      "\n",
      " So, if you are really serious about it, do not make lists and plans - this is \"imagining\" who you want to be and how you want to live.  Instead track what you have done and do - this is about \"becoming\" who you want to be and \"bettering\" how you live.\n",
      "\n",
      " PS - And when you start to get that urge to \"sit\" and \"make a list\" of things you \"should\" do... put down the pen and spank yourself. Get off the couch, instead, and take that 10 minute walk -   Write only in the calendar something that you HAVE DONE.  Use only two main things - staying on budget, and the walk or activity.  Positive notes are permitted, though, since you like lists... eg.  had fresh berries instead of ice cream cone.  \n",
      "\n",
      " Does this make sense to you?\n",
      "\n",
      "\n",
      "Sample Text: 16\n",
      "Here is a perfect example:\n",
      "\n",
      " Persona A decides they are going to \"change their life\".  They sit and read a bunch of books, make elaborate plans of what style of diet they will follow, noting all the diets \"rules\", they make a week of elaborate meal plans, they go shopping and buy all the stuff, they \"plan on losing 2 pounds per week\" until they are \"the new me\".  They join a gym and plan on going 5 days a week, and they are excited about the entire prospect of \"reinventing themselves\".\n",
      "\n",
      " They go to the gym every day for a week, they are stiff and sore and their muscles hurt.  Something happens and the third day of the plan they have to go out to dinner with friends.   They blow the low cal special diet, eat things that are not contained in the \"plan\" and by the next week they have abandoned most of what they said they were going to do.  They feel depressed, a failure, and useless.  They give up.  Two months later, they decide to start again.  They spend a lot of time creating a new and ambitious plan that will \"transform them\".\n",
      "\n",
      "\n",
      " Person B  Says to themselves, \"You know, I really want to improve myself a bit.  I'm not sure that I like where I'm standing.\"  That person takes a walk, now and then when they have 10 minutes and they mark it down.   They set a reasonable budget, maybe even just .5 pounds per week loss, and they simply track their food being \"mindful\" of what is \"enough\".    They decide to try to switch from drinking a cola to a glass of water, or some other simple choices, where they can make the better, healthier decision, which is also a bit lower in calories.  They mark down the occasions where they did something that was a bit more healthy for them.\n",
      "\n",
      " Some days they go off budget.  But they have successful days, with both \"on budget\" and \"walk\" marked on their calendar.   In all, they manage 15 days out of 30.  The next month, they do even better. Third month a disruption occurs and their performance slips a little bit.  Fourth month they are right back at it, with about 80% of their days having positive notes staring back at the calendar at them.  After all, they have 3 months of data and positive marks in their calendar and they have \"many wins\" - better not give up now.\n",
      "\n",
      " Where are these two people in June of 2015?   Person B has built many small wins into increasingly positive habits within their life... a walk, now and then, has become a daily habit, sometimes even equaling a few hours a week. (10 minutes x 5 = 50)  They have learned to eat moderately, a deficit of just 200 calories a day (just a little more than a cola x 365 = 73,000 calories saved!)\n",
      "\n",
      " In short - Person B has genuinely transformed themselves.  Chances are they are more fit, more slender, and enjoying better health.\n",
      "\n",
      " What is genuinely required?  Small changes, maintained with regularity, over time, yielding changes in lifestyle.  Positive changes in lifestyle are reflected in better health, and lower numbers on the scale.\n",
      "\n",
      " My Mom used to say, \"You build your life brick by brick\", and I think this is quite true.  We don't suddenly become tennis players, or mathematicians, or engineers, or accountants. We build our skills, slowly, over time, through day to day practice and the fashioning of those little bricks, every day.  These build up over time, pointing us in a new direction and developing skills and habits through repetition.   Our habits of eating and activity are really no different.\n",
      "\n",
      "\n",
      "Sample Text: 17\n",
      "I am one of those religious loggers.  Then we had a major life change and i moved across the country, signed on the dotted line on a house, remodeling, eating icky, not logging, and in the span of 3 months gained back about 10lbs..what do i do, what am i doing...not kicking myself, just resetting and back to logging religiously i go. Back to exercising daily.  Back to treadmill desk working and in two months from now, that 10lbs will most likely be gone and a few extra for good measure because THIS is how I need to roll. Resetting to my \"norm\" will move that extra lb garbage right off my body. Dont beat yourself up EVER for trying and trying and trying again.  Its when you dont try, you wont accomplish a darn thing  Good Luck!!!\n",
      "\n",
      "\n",
      "Sample Text: 18\n",
      "This is great.\n",
      "\n",
      " I've been in maintenance since July 2012, but for me, maintenance is really just about controlling the re-gain.  I have a ceiling weight that I don't ever want to go above, and if I get close to that, I have to kick back into gear.  Over Christmas I jumped up over that number, and it was awful.  I had to force myself to deal with it, because if that 'panic number' lost its meaning for me, then things could get completely out of control.  Re-losing 3 or 5 (or, in your case, 10) pounds is so much easier than trying to re-lose 30.\n",
      "\n",
      "\n",
      "Sample Text: 19\n",
      "Thank you everyone, for your words of encouragement and advice. I tend to set expectations too high for myself, and when I don't reach them, I don't see the good changes that I DID make in the process - just the things I DIDN'T do. I think Tracy's advice is great - stop making lists, stop \"imagining\" who I want to be, and start being happy with the small steps I'm doing/have done toward living a healthier lifestyle.\n",
      "\n",
      " This weekend I was in a slight panic because I'm getting married (yay!) and my wedding gown came in, so I went to pick it up - and it is rather snug. I have gained probably 10 pounds since I was measured in February when I picked it out. While I can zip it up, and sort of sit down, I would prefer not to feel like waddling white fluffy penguin on my wedding day.\n",
      "\n",
      " So, my typical ways of thinking about weight loss started to creep in...WORKOUT ALL THE DAYS!!! EAT ALL THE VEGETABLES!! LISTS!! CHARTS!! But I'm trying to accept the small changes and have faith that they will help me reach my goals before the wedding.\n",
      "\n",
      " Thanks again, everyone...I'll keep on, keeping on!\n",
      "\n",
      "\n",
      "Sample Text: 20\n",
      "Look at it this way, if you take it slow and steady, maybe you'll only lose 5 pounds before your big day (Congratulations!).  But being 5 pounds thinner is going to feel a whole lot better than nothing at all, and certainly better than 5 pounds more, where you'd be afraid of busting a seam the whole day!\n",
      "\n",
      " Chip away at it, and eventually you'll get to goal.\n",
      "\n",
      "\n"
     ]
    }
   ],
   "source": [
    "for i, sample in enumerate(samples):\n",
    "    print \"Sample Text: {}\".format(i+1)\n",
    "    print sample[6] + '\\n\\n'\n"
   ]
  },
  {
   "cell_type": "code",
   "execution_count": null,
   "metadata": {
    "collapsed": true
   },
   "outputs": [],
   "source": []
  }
 ],
 "metadata": {
  "kernelspec": {
   "display_name": "Python [conda root]",
   "language": "python",
   "name": "conda-root-py"
  },
  "language_info": {
   "codemirror_mode": {
    "name": "ipython",
    "version": 2
   },
   "file_extension": ".py",
   "mimetype": "text/x-python",
   "name": "python",
   "nbconvert_exporter": "python",
   "pygments_lexer": "ipython2",
   "version": "2.7.13"
  }
 },
 "nbformat": 4,
 "nbformat_minor": 2
}
