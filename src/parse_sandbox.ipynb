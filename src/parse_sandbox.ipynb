{
 "cells": [
  {
   "cell_type": "code",
   "execution_count": 1,
   "metadata": {
    "collapsed": true
   },
   "outputs": [],
   "source": [
    "from pymongo import MongoClient\n",
    "from bs4 import BeautifulSoup\n",
    "import selenium.webdriver\n",
    "import os # too access user/pwd in .bash_profile\n",
    "from loseit_parser import LoseItPostParser\n",
    "from scraper_1 import sign_in\n",
    "\n",
    "# get our sample mongo documents\n",
    "mc = MongoClient()\n",
    "db = mc['lose_it']\n",
    "db.collection_names()\n",
    "coll = db['shard_long_topic']\n",
    "landing, subpage = coll.find({}, limit=2)\n",
    "\n",
    "# grab url and html inputs from sample documents\n",
    "ldg_url = landing['url']\n",
    "ldg_html = landing['html']\n",
    "sub_url = subpage['url']\n",
    "sub_html = subpage['html']\n",
    "last_pg, = coll.find({\n",
    "    'url': 'https://forums.loseit.com/posts/list/1965/18808.page'\n",
    "    })\n",
    "last_url = last_pg['url']\n",
    "last_html = last_pg['html']\n",
    "\"\"\"TEACHING MOMENT: line 13 -- NEEDED COMMA to tell python to unpack\n",
    "the results of the pymongo cursor.\"\"\""
   ]
  },
  {
   "cell_type": "code",
   "execution_count": 28,
   "metadata": {
    "collapsed": true
   },
   "outputs": [],
   "source": [
    "parse_landing = LoseItPostParser(ldg_html, ldg_url)\n",
    "parse_sub = LoseItPostParser(sub_html, sub_url)\n",
    "parse_last = LoseItPostParser(last_html, last_url)\n",
    "\n",
    "parse_landing._nav_to_header_parent()\n",
    "\n",
    "parse_landing._nav_to_posts_parent()\n",
    "\n",
    "parse_landing.parse_library()\n",
    "parse_landing.parse_last_pg_url()"
   ]
  },
  {
   "cell_type": "code",
   "execution_count": 29,
   "metadata": {},
   "outputs": [
    {
     "data": {
      "text/plain": [
       "{'author_id': 1779015,\n",
       " 'date_posted': u'01/22/2012',\n",
       " 'joined': u'01/11/2012',\n",
       " 'library': u'Teams, Contests, and Fun',\n",
       " 'name': u'Eleslie Patterson',\n",
       " 'page_idx': 1,\n",
       " 'post_body': u'lol dont be a baby... man up...',\n",
       " 'post_idx': 13,\n",
       " 'profile_url': u'http://www.loseit.com/profile?id=1779015&name=Eleslie+Patterson',\n",
       " 'topic': u'Need motivators!!! How about some friendly WEEKLY challenges?',\n",
       " 'topic_idx': 18808,\n",
       " 'ttl_posts': 395}"
      ]
     },
     "execution_count": 29,
     "metadata": {},
     "output_type": "execute_result"
    }
   ],
   "source": [
    "parse_landing.compile_records()\n",
    "\n",
    "landing_bin = parse_landing.posts_lst\n",
    "landing_bin[12]"
   ]
  },
  {
   "cell_type": "code",
   "execution_count": 5,
   "metadata": {
    "collapsed": true
   },
   "outputs": [],
   "source": [
    "coll2 = db['shard_cherrypicked']"
   ]
  },
  {
   "cell_type": "code",
   "execution_count": 6,
   "metadata": {
    "collapsed": true
   },
   "outputs": [],
   "source": [
    "grumpy, = coll2.find({\n",
    "    'url': 'https://forums.loseit.com/posts/list/6454.page'\n",
    "    })\n",
    "grumpy_url = grumpy['url']\n",
    "grumpy_html = grumpy['html']"
   ]
  },
  {
   "cell_type": "code",
   "execution_count": 451,
   "metadata": {
    "collapsed": true
   },
   "outputs": [],
   "source": [
    "parse_grumpy = LoseItPostParser(grumpy_html, grumpy_url)"
   ]
  },
  {
   "cell_type": "code",
   "execution_count": null,
   "metadata": {
    "collapsed": true
   },
   "outputs": [],
   "source": [
    "parse_grumpy.parse_page()\n",
    "\n",
    "parse_grumpy.compile_records()"
   ]
  },
  {
   "cell_type": "code",
   "execution_count": 460,
   "metadata": {},
   "outputs": [
    {
     "data": {
      "text/plain": [
       "{'author_id': 745201,\n",
       " 'date_posted': u'01/12/2011',\n",
       " 'joined': u'01/02/2011',\n",
       " 'library': u'The Kitchen Sink',\n",
       " 'name': u'Becky',\n",
       " 'page_idx': 1,\n",
       " 'post_body': \"There's a citation!\",\n",
       " 'post_idx': 15,\n",
       " 'profile_url': u'http://www.loseit.com/profile?id=745201&name=Becky',\n",
       " 'topic': u'The Grumpy McRant-Rant Thread',\n",
       " 'topic_idx': 6454,\n",
       " 'ttl_posts': 32}"
      ]
     },
     "execution_count": 460,
     "metadata": {},
     "output_type": "execute_result"
    }
   ],
   "source": [
    "parse_grumpy.posts_lst[14]"
   ]
  },
  {
   "cell_type": "code",
   "execution_count": 452,
   "metadata": {
    "collapsed": true
   },
   "outputs": [],
   "source": [
    "basecamp = parse_grumpy.posts_parent"
   ]
  },
  {
   "cell_type": "code",
   "execution_count": 106,
   "metadata": {},
   "outputs": [
    {
     "name": "stdout",
     "output_type": "stream",
     "text": [
      "<tr>\n",
      "<th class=\"thcornerl\" nowrap=\"nowrap\"></th>\n",
      "<th class=\"thtop\" height=\"26\" nowrap=\"nowrap\" width=\"150\">Author</th>\n",
      "<th class=\"thtop\" nowrap=\"nowrap\" width=\"100%\">Message</th>\n",
      "<th class=\"thcornerr\" nowrap=\"nowrap\"></th>\n",
      "</tr>\n"
     ]
    }
   ],
   "source": [
    "print(basecamp)"
   ]
  },
  {
   "cell_type": "code",
   "execution_count": 107,
   "metadata": {},
   "outputs": [
    {
     "data": {
      "text/plain": [
       "u'http://www.loseit.com/profile?id=494072&name=Jon+S'"
      ]
     },
     "execution_count": 107,
     "metadata": {},
     "output_type": "execute_result"
    }
   ],
   "source": [
    "text = (basecamp.find_next_sibling('tr')\n",
    "         .find_next_sibling('tr')\n",
    "        .find('a')['href']\n",
    "#         .find('span', 'post_text_60155').text.strip()\n",
    "       )\n",
    "\n",
    "text"
   ]
  },
  {
   "cell_type": "code",
   "execution_count": 403,
   "metadata": {
    "collapsed": true
   },
   "outputs": [],
   "source": [
    "platform = basecamp\n",
    "i = 0"
   ]
  },
  {
   "cell_type": "code",
   "execution_count": 446,
   "metadata": {},
   "outputs": [
    {
     "name": "stdout",
     "output_type": "stream",
     "text": [
      "42\n",
      "<tr>\n",
      "<!-- Username -->\n",
      "<td class=\"row1 borderleft\"> </td>\n",
      "<td align=\"left\" class=\"row1\" rowspan=\"2\" valign=\"top\">\n",
      "<div class=\"genmed\" style=\"margin-bottom:5px;\">\n",
      "<a href=\"http://www.loseit.com/profile?id=494072&amp;name=Jon+S\" style=\"color:#0064C7;cursor:pointer;font-size:9pt;font-weight:bold;\">Jon S</a>\n",
      "</div>\n",
      "<span class=\"gensmall\">\n",
      "<img alt=\"[Avatar]\" border=\"0\" src=\"https://d21zgfprgikg74.cloudfront.net/connect/profilepics/24530B61C81840B49179A04AAADE82C0/small.png\"/>\n",
      "<div>Joined: 07/11/2010</div>\n",
      "<div>\n",
      "\tMessages: 2886\n",
      "        </div>\n",
      "<div class=\"offline\">Offline </div>\n",
      "</span> </td>\n",
      "<!-- Message -->\n",
      "<td class=\"row1\" id=\"post_text_60281\" valign=\"top\">\n",
      "<span class=\"postbody\">\n",
      "<blockquote>\n",
      "<div>\n",
      "<cite>Debbie Lee wrote:</cite>I'm grumpy too!  I recently had to move back in with my parents.  That's reason enough to be grumpy - but it gets worse.  Everyone here at home is overweight, yet I'm the only one who seems to CARE about this!  I'm trying to eat right and exercise, but I have zero support from my family.  They buy cookies and cheesecake and leave it in the kitchen for me to stare at and drool.  They are making this harder than it needs to be!!!   <img src=\"http://forums.loseit.com/images/smilies/2e207fad049d4d292f60607f80f05768.gif\"/> </div>\n",
      "</blockquote>\n",
      "<br/>\n",
      "<br/> I hope I don't start a trend with giving advice in a rant column... <img src=\"http://forums.loseit.com/images/smilies/283a16da79f3aa23fe1025c96295f04f.gif\"/>\n",
      "<br/>\n",
      "<br/> You can be instrumental in getting them to care, by continuing to be on track, and doing the things you do.  Be cheerful (because a happy eater is a joy to be around, and a cheery athlete even better) and that might become contagious, and you could turn your whole family around.  Just be patient and concentrate on what you need to do for you.  \n",
      "<br/>\n",
      "<br/> (and sorry about having to move back in with the folks, as a father of four, I'm really hoping my kids STAY OUT... I do love them, though. <img src=\"http://forums.loseit.com/images/smilies/3b63d1616c5dfcf29f8a7a031aaa7cad.gif\"/> )\n",
      "\t\t\t\t\t\t\t</span>\n",
      "<!-- Attachments -->\n",
      "</td>\n",
      "<td class=\"row1 borderright\"> </td>\n",
      "</tr>\n"
     ]
    }
   ],
   "source": [
    "def iterate_trs(bs4_obj, i):\n",
    "    bs4_obj = bs4_obj.find_next_sibling('tr')\n",
    "    i += 1\n",
    "    return i, bs4_obj\n",
    "\n",
    "i, platform = iterate_trs(platform, i)\n",
    "print i\n",
    "print platform"
   ]
  },
  {
   "cell_type": "code",
   "execution_count": 100,
   "metadata": {},
   "outputs": [
    {
     "data": {
      "text/plain": [
       "<tr>\\n<td class=\"row1 borderleft\">\\xa0</td>\\n<td class=\"row1\" height=\"28\" nowrap=\"nowrap\" valign=\"bottom\" width=\"100%\">\\n<table border=\"0\" cellpadding=\"0\" cellspacing=\"0\" width=\"100%\">\\n<tbody><tr>\\n<td nowrap=\"nowrap\" valign=\"middle\">\\n</td>\\n<td align=\"right\">\\n<script type=\"text/javascript\">karmaPointsCombo(60155)</script>\\n</td>\\n</tr>\\n</tbody></table> </td>\\n<td class=\"row1 borderright\">\\xa0</td>\\n</tr>"
      ]
     },
     "execution_count": 100,
     "metadata": {},
     "output_type": "execute_result"
    }
   ],
   "source": [
    "stats = (basecamp.find_next_sibling('tr')\n",
    "         .find_next_sibling('tr')\n",
    "         .find_next_siblings('tr')\n",
    "         #.find('span', 'postbody')\n",
    "         #.find_next_sibling('span')\n",
    "         #.find('div')\n",
    "        )\n",
    "\n",
    "stats[0]"
   ]
  },
  {
   "cell_type": "code",
   "execution_count": 448,
   "metadata": {},
   "outputs": [
    {
     "data": {
      "text/plain": [
       "u'Debbie Lee'"
      ]
     },
     "execution_count": 448,
     "metadata": {},
     "output_type": "execute_result"
    }
   ],
   "source": [
    "# This gets us the author cited\n",
    "cited = platform.find('cite').text.strip().split(' ')[:-1]\n",
    "(' ').join(cited)"
   ]
  },
  {
   "cell_type": "code",
   "execution_count": 447,
   "metadata": {},
   "outputs": [
    {
     "name": "stdout",
     "output_type": "stream",
     "text": [
      "Yep, there's a citation!\n"
     ]
    }
   ],
   "source": [
    "if platform.find('cite'): print \"Yep, there's a citation!\"\n",
    "else: print \"Nope, no citation.\""
   ]
  },
  {
   "cell_type": "code",
   "execution_count": 351,
   "metadata": {},
   "outputs": [
    {
     "name": "stdout",
     "output_type": "stream",
     "text": [
      "I'm grumpy too!  I recently had to move back in with my parents.  That's reason enough to be grumpy - but it gets worse.  Everyone here at home is overweight, yet I'm the only one who seems to CARE about this!  I'm trying to eat right and exercise, but I have zero support from my family.  They buy cookies and cheesecake and leave it in the kitchen for me to stare at and drool.  They are making this harder than it needs to be!!!\n"
     ]
    }
   ],
   "source": [
    "# This gets us the citation\n",
    "citation = (platform.find('td')\n",
    "            .find_next_sibling('td')\n",
    "            .find_next_sibling('td')\n",
    "            .find('div')\n",
    "           ).text.strip()\n",
    "\n",
    "print citation[(citation.index(':') + 1):] # cuts off cited named"
   ]
  },
  {
   "cell_type": "code",
   "execution_count": 352,
   "metadata": {},
   "outputs": [
    {
     "data": {
      "text/plain": [
       "u'OMG, I totally feel you!!  I am irked at my parents right now for the same thing. My parents have been overweight their entire lives, but have no problem telling someone how fat they have gotten.  They lose five stinkin\\' pounds and they act like they are ready to walk the runway.  Then, ok, you listen to them and try to eat better, but you go over to their house for a family event and when you try to turn something down because you really shouldn\\'t eat it, they reposnd with irritating little quips like, \"Oh you can\\'t eat anything on your diet\" or \"Oh you\\'re no fun anymore.\" ARRRRRRGGGGGHHHHHH!!! And they do it to everyone, including my Aunt who was recently diagnosed as diabetic. When she is bad with her diet, my mother criticizes, but when she is good with her diet my mother calls her a stick in the mud.  EVERYTHING leaves may parents\\' house fat... even the pets!!\\n\\n Ok, I feel better now.'"
      ]
     },
     "execution_count": 352,
     "metadata": {},
     "output_type": "execute_result"
    }
   ],
   "source": [
    "# This gets the body\n",
    "citn_body = (platform.find('td')\n",
    "            .find_next_sibling('td')\n",
    "            .find_next_sibling('td')\n",
    "            .find('span')\n",
    "           ).text.strip()\n",
    "\n",
    "body = citn_body[citn_body.index('\\n\\n\\n'):].strip()\n",
    "body"
   ]
  },
  {
   "cell_type": "code",
   "execution_count": 72,
   "metadata": {
    "collapsed": true
   },
   "outputs": [],
   "source": [
    "parse_grumpy.compile_records()"
   ]
  },
  {
   "cell_type": "code",
   "execution_count": 73,
   "metadata": {},
   "outputs": [
    {
     "data": {
      "text/plain": [
       "u\"I'm grumpy too!  I recently had to move back in with my parents.  That's reason enough to be grumpy - but it gets worse.  Everyone here at home is overweight, yet I'm the only one who seems to CARE about this!  I'm trying to eat right and exercise, but I have zero support from my family.  They buy cookies and cheesecake and leave it in the kitchen for me to stare at and drool.  They are making this harder than it needs to be!!!\""
      ]
     },
     "execution_count": 73,
     "metadata": {},
     "output_type": "execute_result"
    }
   ],
   "source": [
    "parse_grumpy.posts_lst[9]['post_body']"
   ]
  },
  {
   "cell_type": "code",
   "execution_count": null,
   "metadata": {
    "collapsed": true
   },
   "outputs": [],
   "source": [
    "\"\"\"PSEUDO CODE for writing topics to relevant dbs.\n",
    "\"\"\"\n",
    "for document in kitchen_mongo:"
   ]
  }
 ],
 "metadata": {
  "kernelspec": {
   "display_name": "Python [conda root]",
   "language": "python",
   "name": "conda-root-py"
  },
  "language_info": {
   "codemirror_mode": {
    "name": "ipython",
    "version": 2
   },
   "file_extension": ".py",
   "mimetype": "text/x-python",
   "name": "python",
   "nbconvert_exporter": "python",
   "pygments_lexer": "ipython2",
   "version": "2.7.13"
  }
 },
 "nbformat": 4,
 "nbformat_minor": 2
}
