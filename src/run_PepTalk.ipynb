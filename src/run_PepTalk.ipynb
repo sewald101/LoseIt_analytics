{
 "cells": [
  {
   "cell_type": "code",
   "execution_count": 41,
   "metadata": {},
   "outputs": [],
   "source": [
    "from loseit_nlp import MatchPosts\n",
    "from post_retriever import OutputResults\n",
    "from sklearn.feature_extraction.text import TfidfVectorizer\n",
    "from corpus_vec import tokenizeText\n",
    "import cPickle as pickle"
   ]
  },
  {
   "cell_type": "code",
   "execution_count": 43,
   "metadata": {
    "collapsed": true
   },
   "outputs": [],
   "source": [
    "with open ('post_ids.pickle', 'rb') as f:\n",
    "    ids = pickle.load(f)\n",
    "\n",
    "with open ('corpus_vec.pickle', 'rb') as f:\n",
    "    arr = pickle.load(f)\n",
    "\n",
    "with open ('model.pickle', 'rb') as f:\n",
    "    model = pickle.load(f)"
   ]
  },
  {
   "cell_type": "code",
   "execution_count": 47,
   "metadata": {},
   "outputs": [
    {
     "name": "stdout",
     "output_type": "stream",
     "text": [
      "What's going on? (type journal entry): >>\n",
      "I think I'm falling off the wagon because I am not getting much exercise.  I'm under a lot of stress at work, and I keep binge eating when I get  home at night. I'm tired and not getting as much sleep as I would like. And sometimes, logging foods just feels tedious.\n"
     ]
    }
   ],
   "source": [
    "j_entry = raw_input(\"What's going on? (type journal entry): >>\\n\")"
   ]
  },
  {
   "cell_type": "code",
   "execution_count": 46,
   "metadata": {},
   "outputs": [
    {
     "name": "stdout",
     "output_type": "stream",
     "text": [
      "How many results would you care to view?: >>2\n"
     ]
    }
   ],
   "source": [
    "N = int(raw_input(\"How many results would you care to view?: >>\" ))"
   ]
  },
  {
   "cell_type": "code",
   "execution_count": 48,
   "metadata": {
    "collapsed": true
   },
   "outputs": [],
   "source": [
    "search = MatchPosts(ids, arr, model, j_entry, N=N)\n",
    "\n",
    "results_df = search.match_posts()\n",
    "\n",
    "output = OutputResults(results_df)\n",
    "\n",
    "output.print_results()"
   ]
  },
  {
   "cell_type": "code",
   "execution_count": null,
   "metadata": {
    "collapsed": true
   },
   "outputs": [],
   "source": []
  }
 ],
 "metadata": {
  "kernelspec": {
   "display_name": "Python [conda root]",
   "language": "python",
   "name": "conda-root-py"
  },
  "language_info": {
   "codemirror_mode": {
    "name": "ipython",
    "version": 2
   },
   "file_extension": ".py",
   "mimetype": "text/x-python",
   "name": "python",
   "nbconvert_exporter": "python",
   "pygments_lexer": "ipython2",
   "version": "2.7.13"
  }
 },
 "nbformat": 4,
 "nbformat_minor": 2
}
