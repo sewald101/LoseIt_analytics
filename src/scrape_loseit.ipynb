{
 "cells": [
  {
   "cell_type": "code",
   "execution_count": 1,
   "metadata": {
    "ExecuteTime": {
     "end_time": "2017-10-16T13:48:07.738869",
     "start_time": "2017-10-16T13:48:07.662041"
    },
    "collapsed": true
   },
   "outputs": [],
   "source": [
    "import time\n",
    "import selenium.webdriver\n",
    "from pymongo import MongoClient\n",
    "import json\n",
    "import random\n",
    "\n",
    "from scraper_1 import sign_in, scraper\n",
    "from loseit_utilities import URLGenerator, write_sub_urls\n",
    "from loseit_parser import LoseItPostParser\n",
    "\n",
    "import os"
   ]
  },
  {
   "cell_type": "markdown",
   "metadata": {},
   "source": [
    "#### Workflow\n",
    "1. Scrape topic landing pages into mongo db X\n",
    "2. Run write_sub_urls to collect sub-page urls\n",
    "3. Scrape those urls into mongo db X"
   ]
  },
  {
   "cell_type": "code",
   "execution_count": 2,
   "metadata": {
    "collapsed": true
   },
   "outputs": [],
   "source": [
    "browser = selenium.webdriver.Firefox()\n",
    "\n",
    "# Create a new mongo collection to hold all documents of web pages scraped from \"The Kit Sink\""
   ]
  },
  {
   "cell_type": "code",
   "execution_count": 3,
   "metadata": {},
   "outputs": [
    {
     "data": {
      "text/plain": [
       "[u'diet_nutr_catalog',\n",
       " u'fitness_ex_catalog',\n",
       " u'topics_fitness_ex',\n",
       " u'shard_library',\n",
       " u'shard_long_topic',\n",
       " u'shard_cherrypicked',\n",
       " u'topics_kitchen_sink',\n",
       " u'kitchen_sink_catalog',\n",
       " u'topics_diet_nutr']"
      ]
     },
     "execution_count": 3,
     "metadata": {},
     "output_type": "execute_result"
    }
   ],
   "source": [
    "mc = MongoClient()\n",
    "db = mc['lose_it']\n",
    "db.collection_names()"
   ]
  },
  {
   "cell_type": "code",
   "execution_count": 4,
   "metadata": {
    "collapsed": true
   },
   "outputs": [],
   "source": [
    "diet = db['topics_diet_nutr']\n",
    "kitchen = db['topics_kitchen_sink']\n",
    "fitness = db['topics_fitness_ex']"
   ]
  },
  {
   "cell_type": "code",
   "execution_count": 45,
   "metadata": {},
   "outputs": [
    {
     "data": {
      "text/plain": [
       "(4989, 5648, 5787)"
      ]
     },
     "execution_count": 45,
     "metadata": {},
     "output_type": "execute_result"
    }
   ],
   "source": [
    "diet.count(), kitchen.count(), fitness.count()"
   ]
  },
  {
   "cell_type": "code",
   "execution_count": 46,
   "metadata": {},
   "outputs": [
    {
     "data": {
      "text/plain": [
       "16424"
      ]
     },
     "execution_count": 46,
     "metadata": {},
     "output_type": "execute_result"
    }
   ],
   "source": [
    "diet.count() + kitchen.count() + fitness.count()"
   ]
  },
  {
   "cell_type": "code",
   "execution_count": 5,
   "metadata": {
    "collapsed": true
   },
   "outputs": [],
   "source": [
    "user = os.environ['LOSEIT_USER']\n",
    "pwd = os.environ['LOSEIT_PWD']"
   ]
  },
  {
   "cell_type": "code",
   "execution_count": 6,
   "metadata": {},
   "outputs": [
    {
     "data": {
      "text/plain": [
       "<selenium.webdriver.firefox.webdriver.WebDriver (session=\"4a130c81-991f-7643-ae6b-26935d536e29\")>"
      ]
     },
     "execution_count": 6,
     "metadata": {},
     "output_type": "execute_result"
    }
   ],
   "source": [
    "sign_in(browser, user, pwd)"
   ]
  },
  {
   "cell_type": "code",
   "execution_count": 8,
   "metadata": {
    "collapsed": true
   },
   "outputs": [],
   "source": [
    "coll_kitchen = 'topics_kitchen_sink'\n",
    "coll_fitness = 'topics_fitness_ex'\n",
    "kitchen_input = '../data/urls_topics_kit_sink.txt'\n",
    "fitness_input = '../data/urls_topics_fit_ex.txt'\n",
    "kit_leftovers = '../data/urls_kit_landings_leftovers.txt'\n",
    "fitness_leftovers = '../data/fit_ex_xtr.txt'\n",
    "kitchen_output = '../data/urls_topics_kit_sink_subpp.txt'\n",
    "fitness_output = '../data/urls_topics_fit_ex_subpp.txt'\n",
    "cherrypicked = '../data/urls_cherrypicked.txt'"
   ]
  },
  {
   "cell_type": "code",
   "execution_count": 10,
   "metadata": {},
   "outputs": [
    {
     "name": "stdout",
     "output_type": "stream",
     "text": [
      "document added: https://forums.loseit.com/posts/list/15/36492.page\n",
      "\n",
      "Web scrape complete.\n"
     ]
    }
   ],
   "source": [
    "scraper(browser, cherrypicked, coll_kitchen)"
   ]
  },
  {
   "cell_type": "code",
   "execution_count": 41,
   "metadata": {
    "collapsed": true
   },
   "outputs": [],
   "source": [
    "def scrape_o_rama():\n",
    "#     mc = MongoClient()\n",
    "#     db = mc['lose_it']\n",
    "#     coll = db[coll_kitchen]\n",
    "    \n",
    "#     scraper(browser, kit_leftovers, coll)\n",
    "#     write_sub_urls(coll_kitchen, kitchen_output, initialize_mc=True)\n",
    "#     scraper(browser, kitchen_output, coll_kitchen)\n",
    "    \n",
    "#     mc = MongoClient()\n",
    "#     db = mc['lose_it']\n",
    "#     coll = db[coll_fitness]\n",
    "    \n",
    "#     scraper(browser, fitness_leftovers, coll_fitness)\n",
    "#     write_sub_urls(coll_fitness, fitness_output, initialize_mc=True)\n",
    "    scraper(browser, fitness_leftovers, coll_fitness)\n",
    "    \n",
    "    print \"\\nSCRAPE-O-RAMA COMPLETE!!\\n\"\n",
    "    "
   ]
  },
  {
   "cell_type": "code",
   "execution_count": null,
   "metadata": {
    "collapsed": true
   },
   "outputs": [],
   "source": [
    "scrape_o_rama()"
   ]
  },
  {
   "cell_type": "code",
   "execution_count": null,
   "metadata": {
    "collapsed": true
   },
   "outputs": [],
   "source": [
    "'https://forums.loseit.com/posts/list/15997.page'"
   ]
  },
  {
   "cell_type": "code",
   "execution_count": null,
   "metadata": {
    "collapsed": true
   },
   "outputs": [],
   "source": []
  },
  {
   "cell_type": "code",
   "execution_count": null,
   "metadata": {
    "collapsed": true
   },
   "outputs": [],
   "source": [
    "db.collection_names()"
   ]
  },
  {
   "cell_type": "code",
   "execution_count": null,
   "metadata": {
    "collapsed": true
   },
   "outputs": [],
   "source": [
    "colla = db['topics_kitchen_sink']\n",
    "colla.count()"
   ]
  },
  {
   "cell_type": "code",
   "execution_count": null,
   "metadata": {
    "collapsed": true
   },
   "outputs": [],
   "source": [
    "cur = colla.find({'url': 'https://forums.loseit.com/posts/list/39562.page'})"
   ]
  },
  {
   "cell_type": "code",
   "execution_count": null,
   "metadata": {
    "collapsed": true
   },
   "outputs": [],
   "source": [
    "print [doc for doc in cur]"
   ]
  },
  {
   "cell_type": "code",
   "execution_count": null,
   "metadata": {
    "collapsed": true
   },
   "outputs": [],
   "source": [
    "cur.rewind()"
   ]
  },
  {
   "cell_type": "code",
   "execution_count": null,
   "metadata": {
    "collapsed": true
   },
   "outputs": [],
   "source": [
    "for doc in"
   ]
  },
  {
   "cell_type": "code",
   "execution_count": null,
   "metadata": {
    "collapsed": true
   },
   "outputs": [],
   "source": [
    "!wc -l ../data/urls_topics_fit_ex_subpp.txt"
   ]
  },
  {
   "cell_type": "code",
   "execution_count": null,
   "metadata": {
    "collapsed": true
   },
   "outputs": [],
   "source": [
    "!wc -l ../data/urls_kit_landings_leftovers.txt"
   ]
  },
  {
   "cell_type": "code",
   "execution_count": null,
   "metadata": {
    "collapsed": true
   },
   "outputs": [],
   "source": [
    "1502 + 2248"
   ]
  },
  {
   "cell_type": "code",
   "execution_count": null,
   "metadata": {
    "collapsed": true
   },
   "outputs": [],
   "source": [
    "!wc -l ../data/urls_.txt"
   ]
  },
  {
   "cell_type": "code",
   "execution_count": null,
   "metadata": {
    "collapsed": true
   },
   "outputs": [],
   "source": []
  }
 ],
 "metadata": {
  "kernelspec": {
   "display_name": "Python [conda root]",
   "language": "python",
   "name": "conda-root-py"
  },
  "language_info": {
   "codemirror_mode": {
    "name": "ipython",
    "version": 2
   },
   "file_extension": ".py",
   "mimetype": "text/x-python",
   "name": "python",
   "nbconvert_exporter": "python",
   "pygments_lexer": "ipython2",
   "version": "2.7.13"
  }
 },
 "nbformat": 4,
 "nbformat_minor": 2
}
