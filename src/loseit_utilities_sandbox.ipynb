{
 "cells": [
  {
   "cell_type": "code",
   "execution_count": 45,
   "metadata": {
    "collapsed": true
   },
   "outputs": [],
   "source": [
    "from url_generator import URLGenerator"
   ]
  },
  {
   "cell_type": "code",
   "execution_count": 46,
   "metadata": {},
   "outputs": [],
   "source": [
    "# landing = 'https://forums.loseit.com/posts/list/18808.page'\n",
    "# output_file = '../data/shard_urls_long_topic.txt'\n",
    "# bookend = 'https://forums.loseit.com/posts/list/1965/18808.page'"
   ]
  },
  {
   "cell_type": "code",
   "execution_count": 47,
   "metadata": {
    "collapsed": true
   },
   "outputs": [],
   "source": [
    "#long_topic = URLGenerator(landing, output_file, end_page_url=bookend)"
   ]
  },
  {
   "cell_type": "code",
   "execution_count": 48,
   "metadata": {
    "collapsed": true
   },
   "outputs": [],
   "source": [
    "#long_topic.url_writer()"
   ]
  },
  {
   "cell_type": "code",
   "execution_count": 50,
   "metadata": {
    "collapsed": true
   },
   "outputs": [],
   "source": [
    "kit_sink_landing = 'https://forums.loseit.com/forums/show/6.page'\n",
    "kit_sink_end_page = 'https://forums.loseit.com/forums/show/9350/6.page'\n",
    "output_kitchen = '../data/libr_kit_sink_urls.txt'\n",
    "\n",
    "diet_nut_landing = 'https://forums.loseit.com/forums/show/4.page'\n",
    "diet_nut_end_page = 'https://forums.loseit.com/forums/show/10650/4.page'\n",
    "output_diet = '../data/libr_diet_nutr_urls.txt'\n",
    "\n",
    "fit_ex_landing = 'https://forums.loseit.com/forums/show/3.page'\n",
    "fit_ex_end_page = 'https://forums.loseit.com/forums/show/8175/3.page'\n",
    "output_fitness = '../data/libr_fit_ex_urls.txt'\n"
   ]
  },
  {
   "cell_type": "code",
   "execution_count": 51,
   "metadata": {
    "collapsed": true
   },
   "outputs": [],
   "source": [
    "kitchen_urls = URLGenerator(kit_sink_landing, \n",
    "                            output_kitchen, \n",
    "                            end_page_url=kit_sink_end_page,\n",
    "                            increment=25)"
   ]
  },
  {
   "cell_type": "code",
   "execution_count": 52,
   "metadata": {
    "collapsed": true
   },
   "outputs": [],
   "source": [
    "kitchen_urls.url_writer()\n"
   ]
  },
  {
   "cell_type": "code",
   "execution_count": 54,
   "metadata": {},
   "outputs": [],
   "source": [
    "diet_urls = URLGenerator(diet_nut_landing,\n",
    "                         output_diet,\n",
    "                         end_page_url=diet_nut_end_page,\n",
    "                         increment=25)\n",
    "                         "
   ]
  },
  {
   "cell_type": "code",
   "execution_count": 55,
   "metadata": {
    "collapsed": true
   },
   "outputs": [],
   "source": [
    "diet_urls.url_writer()"
   ]
  },
  {
   "cell_type": "code",
   "execution_count": 56,
   "metadata": {
    "collapsed": true
   },
   "outputs": [],
   "source": [
    "fitex_urls = URLGenerator(fit_ex_landing,\n",
    "                          output_fitness,\n",
    "                          end_page_url=fit_ex_end_page,\n",
    "                          increment=25)"
   ]
  },
  {
   "cell_type": "code",
   "execution_count": 57,
   "metadata": {
    "collapsed": true
   },
   "outputs": [],
   "source": [
    "fitex_urls.url_writer()"
   ]
  },
  {
   "cell_type": "code",
   "execution_count": null,
   "metadata": {
    "collapsed": true
   },
   "outputs": [],
   "source": []
  }
 ],
 "metadata": {
  "kernelspec": {
   "display_name": "Python [conda root]",
   "language": "python",
   "name": "conda-root-py"
  },
  "language_info": {
   "codemirror_mode": {
    "name": "ipython",
    "version": 2
   },
   "file_extension": ".py",
   "mimetype": "text/x-python",
   "name": "python",
   "nbconvert_exporter": "python",
   "pygments_lexer": "ipython2",
   "version": "2.7.13"
  }
 },
 "nbformat": 4,
 "nbformat_minor": 2
}
